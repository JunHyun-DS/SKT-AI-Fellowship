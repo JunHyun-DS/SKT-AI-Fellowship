{
 "cells": [
  {
   "cell_type": "markdown",
   "metadata": {},
   "source": [
    "# GA 기반 정비 스케줄링 최적화\n",
    "2022.04.24 민수홍\n",
    "\n",
    "GA를 활용한 정비스케줄링"
   ]
  },
  {
   "cell_type": "markdown",
   "metadata": {},
   "source": [
    "## Library"
   ]
  },
  {
   "cell_type": "code",
   "execution_count": 1,
   "metadata": {},
   "outputs": [
    {
     "name": "stderr",
     "output_type": "stream",
     "text": [
      "Loading required package: tidyverse\n",
      "\n",
      "-- \u001b[1mAttaching packages\u001b[22m --------------------------------------- tidyverse 1.3.0 --\n",
      "\n",
      "\u001b[32m√\u001b[39m \u001b[34mggplot2\u001b[39m 3.3.5     \u001b[32m√\u001b[39m \u001b[34mpurrr  \u001b[39m 0.3.4\n",
      "\u001b[32m√\u001b[39m \u001b[34mtibble \u001b[39m 3.0.2     \u001b[32m√\u001b[39m \u001b[34mdplyr  \u001b[39m 1.0.0\n",
      "\u001b[32m√\u001b[39m \u001b[34mtidyr  \u001b[39m 1.1.0     \u001b[32m√\u001b[39m \u001b[34mstringr\u001b[39m 1.4.0\n",
      "\u001b[32m√\u001b[39m \u001b[34mreadr  \u001b[39m 1.3.1     \u001b[32m√\u001b[39m \u001b[34mforcats\u001b[39m 0.5.0\n",
      "\n",
      "Warning message:\n",
      "\"package 'ggplot2' was built under R version 4.0.5\"\n",
      "-- \u001b[1mConflicts\u001b[22m ------------------------------------------ tidyverse_conflicts() --\n",
      "\u001b[31mx\u001b[39m \u001b[34mdplyr\u001b[39m::\u001b[32mfilter()\u001b[39m masks \u001b[34mstats\u001b[39m::filter()\n",
      "\u001b[31mx\u001b[39m \u001b[34mdplyr\u001b[39m::\u001b[32mlag()\u001b[39m    masks \u001b[34mstats\u001b[39m::lag()\n",
      "\n",
      "Loading required package: GA\n",
      "\n",
      "Warning message:\n",
      "\"package 'GA' was built under R version 4.0.3\"\n",
      "Loading required package: foreach\n",
      "\n",
      "Warning message:\n",
      "\"package 'foreach' was built under R version 4.0.3\"\n",
      "\n",
      "Attaching package: 'foreach'\n",
      "\n",
      "\n",
      "The following objects are masked from 'package:purrr':\n",
      "\n",
      "    accumulate, when\n",
      "\n",
      "\n",
      "Loading required package: iterators\n",
      "\n",
      "Package 'GA' version 3.2\n",
      "Type 'citation(\"GA\")' for citing this R package in publications.\n",
      "\n",
      "\n",
      "Attaching package: 'GA'\n",
      "\n",
      "\n",
      "The following object is masked from 'package:utils':\n",
      "\n",
      "    de\n",
      "\n",
      "\n"
     ]
    }
   ],
   "source": [
    "### library\n",
    "requiredPackages = c('tidyverse', 'GA')\n",
    "\n",
    "for(p in requiredPackages){\n",
    "  if(!require(p,character.only = TRUE)) install.packages(p)\n",
    "  library(p,character.only = TRUE)\n",
    "}\n"
   ]
  },
  {
   "cell_type": "code",
   "execution_count": 7,
   "metadata": {},
   "outputs": [],
   "source": [
    "work_path = 'D:\\\\Google 드라이브\\\\연구실\\\\SKT fellowship'\n",
    "setwd(work_path)\n",
    "\n",
    "risk_info = read.csv('data\\\\risk_cdf.csv') # Dataset"
   ]
  },
  {
   "cell_type": "markdown",
   "metadata": {},
   "source": [
    "## Risk Information Visualization"
   ]
  },
  {
   "cell_type": "code",
   "execution_count": 15,
   "metadata": {},
   "outputs": [],
   "source": [
    "options(repr.plot.width=9, repr.plot.height=7)"
   ]
  },
  {
   "cell_type": "code",
   "execution_count": 16,
   "metadata": {},
   "outputs": [
    {
     "data": {
      "image/png": "[encoded data removed]",
      "text/plain": [
       "plot without title"
      ]
     },
     "metadata": {
      "image/png": {
       "height": 420,
       "width": 540
      }
     },
     "output_type": "display_data"
    }
   ],
   "source": [
    "par(mfrow = c(1,1))\n",
    "plot(risk_info[70:350, 1], risk_info[70:350,2] , type = 'l', lwd = 3, \n",
    "     xlab = 'Time', ylab = 'Risk', col = 1)\n",
    "for (i in 2:10) {\n",
    "  lines(risk_info[70:350,1], risk_info[70:350,i], type = 'l', lwd = 3, col = i + 1)\n",
    "}\n",
    "legend('right', c('machine1', 'machine2', 'machine3', 'machine4', 'machine5', \n",
    "                  'machine6', 'machine7', 'machine8', 'machine9', 'machine10'),\n",
    "       col = seq(1:10), lwd = 2, cex = 0.7)"
   ]
  },
  {
   "cell_type": "markdown",
   "metadata": {},
   "source": [
    "## GA 기반 스케줄링"
   ]
  },
  {
   "cell_type": "code",
   "execution_count": 18,
   "metadata": {},
   "outputs": [],
   "source": [
    "risk_info = risk_info[,-1] # 필요없는 열 제거"
   ]
  },
  {
   "cell_type": "code",
   "execution_count": 19,
   "metadata": {},
   "outputs": [],
   "source": [
    "con2binary = function(x) {\n",
    "    # 0~1 사이의 값을 x를 넘으면 1, 안넘으면 0으로 변환\n",
    "  x = as.numeric(x)\n",
    "  x[x >= binary_cri] = 1\n",
    "  x[x <= binary_cri] = 0\n",
    "  \n",
    "  return(x)\n",
    "}"
   ]
  },
  {
   "cell_type": "code",
   "execution_count": 24,
   "metadata": {},
   "outputs": [],
   "source": [
    "fitness = function(x) {\n",
    "  \n",
    "  # gary to binary\n",
    "  x = con2binary(x)\n",
    "  \n",
    "  if(sum(x) > 1) { # 특성 시간대에 2대 이상의 설비를 점검하지 않는다\n",
    "    return(0)\n",
    "  } else {\n",
    "    risk = x %*% t(current_data) + ((x %*% t(current_data)) - 0.1)\n",
    "    if(risk <= 0) {\n",
    "      return(0)\n",
    "    } else {\n",
    "      return(risk)\n",
    "    }\n",
    "  }\n",
    "}"
   ]
  },
  {
   "cell_type": "code",
   "execution_count": 23,
   "metadata": {},
   "outputs": [
    {
     "name": "stdout",
     "output_type": "stream",
     "text": [
      "[1] \"iteration : \" \"10\"          \n",
      "[1] \"iteration : \" \"20\"          \n",
      "[1] \"iteration : \" \"30\"          \n",
      "[1] \"iteration : \" \"40\"          \n",
      "[1] \"iteration : \" \"50\"          \n"
     ]
    }
   ],
   "source": [
    "binary_cri = 0.998\n",
    "solution_mat = c()\n",
    "\n",
    "for (time in 1:200) {\n",
    "  current_data = risk_info[time, ]\n",
    "  \n",
    "  GA = ga(type = 'real-valued', fitness = fitness, nBits = ncol(risk_info), maxiter = 20,\n",
    "          lower = rep(0,100), upper = rep(1,100),\n",
    "          popSize = 50, keepBest = FALSE)\n",
    "  \n",
    "  solution = GA@solution[1,] # 같은 fitness를 가지면 여러개의 행이 생김\n",
    "  \n",
    "  solution = con2binary(solution)\n",
    "  \n",
    "  solution_mat = rbind(solution_mat, solution)\n",
    "  \n",
    "  risk_info[(time + 1):nrow(risk_info), which(solution == 1)] = 0 # 점검이 실행되면 이후 Risk = 0\n",
    "  if (time %% 10 == 0)\n",
    "    print(c(\"iteration : \", time))\n",
    "}"
   ]
  },
  {
   "cell_type": "code",
   "execution_count": 22,
   "metadata": {},
   "outputs": [
    {
     "data": {
      "image/png": "[encoded data removed]",
      "text/plain": [
       "plot without title"
      ]
     },
     "metadata": {
      "image/png": {
       "height": 420,
       "width": 540
      }
     },
     "output_type": "display_data"
    }
   ],
   "source": [
    "par(mfrow = c(1,1))\n",
    "plot(1:nrow(risk_info), risk_info[,2] , type = 'l', lwd = 2, \n",
    "     xlab = 'Time', ylab = 'Risk', col = 1,\n",
    "     ylim = c(0,1))\n",
    "for (i in 2:10) {\n",
    "  lines(1:nrow(risk_info), risk_info[,i], type = 'l', lwd = 2, col = i + 1)\n",
    "}\n",
    "legend('right', c('mach1', 'mach2', 'mach3', 'mach4', 'mach5', 'mach6', 'mach7',\n",
    "                  'mach8', 'mach9', 'mach10'),\n",
    "       col = seq(1:10), lwd = 2, cex = 0.7)"
   ]
  }
 ],
 "metadata": {
  "kernelspec": {
   "display_name": "R",
   "language": "R",
   "name": "ir"
  },
  "language_info": {
   "codemirror_mode": "r",
   "file_extension": ".r",
   "mimetype": "text/x-r-source",
   "name": "R",
   "pygments_lexer": "r",
   "version": "4.0.2"
  }
 },
 "nbformat": 4,
 "nbformat_minor": 4
}
