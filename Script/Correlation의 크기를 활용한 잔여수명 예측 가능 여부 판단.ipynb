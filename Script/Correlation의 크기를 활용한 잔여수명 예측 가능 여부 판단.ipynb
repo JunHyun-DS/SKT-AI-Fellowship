{
 "cells": [
  {
   "cell_type": "markdown",
   "id": "ac2753a5",
   "metadata": {},
   "source": [
    "<h1> <b>Correlation의 크기를 활용한 잔여수명 예측 가능 여부 판단</b></h1>\n",
    "&nbsp;\n",
    "\n",
    "- <h3> <b>데이터 : <a href=\"https://ti.arc.nasa.gov/tech/dash/groups/pcoe/prognostic-data-repository/\">[Turbofan Engine Degradation Simulation Data Set]</a></b></h3>\n",
    "\n",
    "     - <h4> <b>train data : Run-to-Failure data</b> </h4>\n",
    "     - <h4> <b>test data : Censored data</b> </h4>\n",
    "\n",
    "- <h3> <b>Correlation 값의 크기를 Degradation 값으로 사용</b> </h3>\n",
    "- <h3> <b>잔여수명 예측 : PoF (Physics of Failure) 기반 잔여수명 예측을 목표로 함</b> </h3>"
   ]
  },
  {
   "cell_type": "code",
   "execution_count": 1,
   "id": "7424657a",
   "metadata": {},
   "outputs": [],
   "source": [
    "# 개인 함수 불러오기\n",
    "src_dir = 'E:\\\\R\\\\prototype5\\\\function\\\\'\n",
    "src_file = list.files(src_dir)\n",
    "for(i in 1:length(src_file)) source(paste(src_dir, src_file[i], sep=''), encoding='utf-8')"
   ]
  },
  {
   "cell_type": "code",
   "execution_count": 2,
   "id": "0a55f371",
   "metadata": {},
   "outputs": [],
   "source": [
    "# data import\n",
    "# Train Dataset \n",
    "trainData = read.table('E:\\\\데이터\\\\예지보전\\\\CMAPSSData\\\\train_FD001.txt')\n",
    "# testDataset \n",
    "testData = read.table('E:\\\\데이터\\\\예지보전\\\\CMAPSSData\\\\test_FD001.txt')\n",
    "\n",
    "# column name 정의\n",
    "colname = c()\n",
    "for(i in 0:25){\n",
    "  colname = append(colname, paste0('Section-',i))\n",
    "}\n",
    "colnames(trainData) = colname\n",
    "colnames(testData) = colname"
   ]
  },
  {
   "cell_type": "code",
   "execution_count": 5,
   "id": "24b6fb0c",
   "metadata": {},
   "outputs": [
    {
     "data": {
      "text/plain": [
       "   Section-0        Section-1       Section-2           Section-3         \n",
       " Min.   :  1.00   Min.   :  1.0   Min.   :-8.70e-03   Min.   :-6.000e-04  \n",
       " 1st Qu.: 26.00   1st Qu.: 52.0   1st Qu.:-1.50e-03   1st Qu.:-2.000e-04  \n",
       " Median : 52.00   Median :104.0   Median : 0.00e+00   Median : 0.000e+00  \n",
       " Mean   : 51.51   Mean   :108.8   Mean   :-8.87e-06   Mean   : 2.351e-06  \n",
       " 3rd Qu.: 77.00   3rd Qu.:156.0   3rd Qu.: 1.50e-03   3rd Qu.: 3.000e-04  \n",
       " Max.   :100.00   Max.   :362.0   Max.   : 8.70e-03   Max.   : 6.000e-04  \n",
       "   Section-4     Section-5       Section-6       Section-7      Section-8   \n",
       " Min.   :100   Min.   :518.7   Min.   :641.2   Min.   :1571   Min.   :1382  \n",
       " 1st Qu.:100   1st Qu.:518.7   1st Qu.:642.3   1st Qu.:1586   1st Qu.:1402  \n",
       " Median :100   Median :518.7   Median :642.6   Median :1590   Median :1408  \n",
       " Mean   :100   Mean   :518.7   Mean   :642.7   Mean   :1591   Mean   :1409  \n",
       " 3rd Qu.:100   3rd Qu.:518.7   3rd Qu.:643.0   3rd Qu.:1594   3rd Qu.:1415  \n",
       " Max.   :100   Max.   :518.7   Max.   :644.5   Max.   :1617   Max.   :1441  \n",
       "   Section-9       Section-10      Section-11      Section-12     Section-13  \n",
       " Min.   :14.62   Min.   :21.60   Min.   :549.9   Min.   :2388   Min.   :9022  \n",
       " 1st Qu.:14.62   1st Qu.:21.61   1st Qu.:552.8   1st Qu.:2388   1st Qu.:9053  \n",
       " Median :14.62   Median :21.61   Median :553.4   Median :2388   Median :9061  \n",
       " Mean   :14.62   Mean   :21.61   Mean   :553.4   Mean   :2388   Mean   :9065  \n",
       " 3rd Qu.:14.62   3rd Qu.:21.61   3rd Qu.:554.0   3rd Qu.:2388   3rd Qu.:9069  \n",
       " Max.   :14.62   Max.   :21.61   Max.   :556.1   Max.   :2389   Max.   :9245  \n",
       "   Section-14    Section-15      Section-16      Section-17     Section-18  \n",
       " Min.   :1.3   Min.   :46.85   Min.   :518.7   Min.   :2388   Min.   :8100  \n",
       " 1st Qu.:1.3   1st Qu.:47.35   1st Qu.:521.0   1st Qu.:2388   1st Qu.:8133  \n",
       " Median :1.3   Median :47.51   Median :521.5   Median :2388   Median :8141  \n",
       " Mean   :1.3   Mean   :47.54   Mean   :521.4   Mean   :2388   Mean   :8144  \n",
       " 3rd Qu.:1.3   3rd Qu.:47.70   3rd Qu.:522.0   3rd Qu.:2388   3rd Qu.:8148  \n",
       " Max.   :1.3   Max.   :48.53   Max.   :523.4   Max.   :2389   Max.   :8294  \n",
       "   Section-19      Section-20     Section-21      Section-22     Section-23 \n",
       " Min.   :8.325   Min.   :0.03   Min.   :388.0   Min.   :2388   Min.   :100  \n",
       " 1st Qu.:8.415   1st Qu.:0.03   1st Qu.:392.0   1st Qu.:2388   1st Qu.:100  \n",
       " Median :8.439   Median :0.03   Median :393.0   Median :2388   Median :100  \n",
       " Mean   :8.442   Mean   :0.03   Mean   :393.2   Mean   :2388   Mean   :100  \n",
       " 3rd Qu.:8.466   3rd Qu.:0.03   3rd Qu.:394.0   3rd Qu.:2388   3rd Qu.:100  \n",
       " Max.   :8.585   Max.   :0.03   Max.   :400.0   Max.   :2388   Max.   :100  \n",
       "   Section-24      Section-25   \n",
       " Min.   :38.14   Min.   :22.89  \n",
       " 1st Qu.:38.70   1st Qu.:23.22  \n",
       " Median :38.83   Median :23.30  \n",
       " Mean   :38.82   Mean   :23.29  \n",
       " 3rd Qu.:38.95   3rd Qu.:23.37  \n",
       " Max.   :39.43   Max.   :23.62  "
      ]
     },
     "metadata": {},
     "output_type": "display_data"
    }
   ],
   "source": [
    "# 데이터 요약\n",
    "summary(trainData)"
   ]
  },
  {
   "cell_type": "code",
   "execution_count": 6,
   "id": "a7348ef9",
   "metadata": {},
   "outputs": [
    {
     "data": {
      "text/html": [
       "<dl class=dl-horizontal>\n",
       "\t<dt>Section-0</dt>\n",
       "\t\t<dd>854.254525451525</dd>\n",
       "\t<dt>Section-1</dt>\n",
       "\t\t<dd>4744.59080779403</dd>\n",
       "\t<dt>Section-2</dt>\n",
       "\t\t<dd>4.78434012424253e-06</dd>\n",
       "\t<dt>Section-3</dt>\n",
       "\t\t<dd>8.58854088552227e-08</dd>\n",
       "\t<dt>Section-4</dt>\n",
       "\t\t<dd>0</dd>\n",
       "\t<dt>Section-5</dt>\n",
       "\t\t<dd>0</dd>\n",
       "\t<dt>Section-6</dt>\n",
       "\t\t<dd>0.250053272898323</dd>\n",
       "\t<dt>Section-7</dt>\n",
       "\t\t<dd>37.590994432805</dd>\n",
       "\t<dt>Section-8</dt>\n",
       "\t\t<dd>81.0108864155464</dd>\n",
       "\t<dt>Section-9</dt>\n",
       "\t\t<dd>0</dd>\n",
       "\t<dt>Section-10</dt>\n",
       "\t\t<dd>1.92927908772854e-06</dd>\n",
       "\t<dt>Section-11</dt>\n",
       "\t\t<dd>0.783388304575707</dd>\n",
       "\t<dt>Section-12</dt>\n",
       "\t\t<dd>0.00503893821337384</dd>\n",
       "\t<dt>Section-13</dt>\n",
       "\t\t<dd>487.653568118589</dd>\n",
       "\t<dt>Section-14</dt>\n",
       "\t\t<dd>0</dd>\n",
       "\t<dt>Section-15</dt>\n",
       "\t\t<dd>0.0713356785121139</dd>\n",
       "\t<dt>Section-16</dt>\n",
       "\t\t<dd>0.543985006360052</dd>\n",
       "\t<dt>Section-17</dt>\n",
       "\t\t<dd>0.00517233043525919</dd>\n",
       "\t<dt>Section-18</dt>\n",
       "\t\t<dd>363.900489865531</dd>\n",
       "\t<dt>Section-19</dt>\n",
       "\t\t<dd>0.00140662787177845</dd>\n",
       "\t<dt>Section-20</dt>\n",
       "\t\t<dd>0</dd>\n",
       "\t<dt>Section-21</dt>\n",
       "\t\t<dd>2.39866690641243</dd>\n",
       "\t<dt>Section-22</dt>\n",
       "\t\t<dd>0</dd>\n",
       "\t<dt>Section-23</dt>\n",
       "\t\t<dd>0</dd>\n",
       "\t<dt>Section-24</dt>\n",
       "\t\t<dd>0.0326692711890885</dd>\n",
       "\t<dt>Section-25</dt>\n",
       "\t\t<dd>0.0117182518830387</dd>\n",
       "</dl>\n"
      ],
      "text/latex": [
       "\\begin{description*}\n",
       "\\item[Section-0] 854.254525451525\n",
       "\\item[Section-1] 4744.59080779403\n",
       "\\item[Section-2] 4.78434012424253e-06\n",
       "\\item[Section-3] 8.58854088552227e-08\n",
       "\\item[Section-4] 0\n",
       "\\item[Section-5] 0\n",
       "\\item[Section-6] 0.250053272898323\n",
       "\\item[Section-7] 37.590994432805\n",
       "\\item[Section-8] 81.0108864155464\n",
       "\\item[Section-9] 0\n",
       "\\item[Section-10] 1.92927908772854e-06\n",
       "\\item[Section-11] 0.783388304575707\n",
       "\\item[Section-12] 0.00503893821337384\n",
       "\\item[Section-13] 487.653568118589\n",
       "\\item[Section-14] 0\n",
       "\\item[Section-15] 0.0713356785121139\n",
       "\\item[Section-16] 0.543985006360052\n",
       "\\item[Section-17] 0.00517233043525919\n",
       "\\item[Section-18] 363.900489865531\n",
       "\\item[Section-19] 0.00140662787177845\n",
       "\\item[Section-20] 0\n",
       "\\item[Section-21] 2.39866690641243\n",
       "\\item[Section-22] 0\n",
       "\\item[Section-23] 0\n",
       "\\item[Section-24] 0.0326692711890885\n",
       "\\item[Section-25] 0.0117182518830387\n",
       "\\end{description*}\n"
      ],
      "text/markdown": [
       "Section-0\n",
       ":   854.254525451525Section-1\n",
       ":   4744.59080779403Section-2\n",
       ":   4.78434012424253e-06Section-3\n",
       ":   8.58854088552227e-08Section-4\n",
       ":   0Section-5\n",
       ":   0Section-6\n",
       ":   0.250053272898323Section-7\n",
       ":   37.590994432805Section-8\n",
       ":   81.0108864155464Section-9\n",
       ":   0Section-10\n",
       ":   1.92927908772854e-06Section-11\n",
       ":   0.783388304575707Section-12\n",
       ":   0.00503893821337384Section-13\n",
       ":   487.653568118589Section-14\n",
       ":   0Section-15\n",
       ":   0.0713356785121139Section-16\n",
       ":   0.543985006360052Section-17\n",
       ":   0.00517233043525919Section-18\n",
       ":   363.900489865531Section-19\n",
       ":   0.00140662787177845Section-20\n",
       ":   0Section-21\n",
       ":   2.39866690641243Section-22\n",
       ":   0Section-23\n",
       ":   0Section-24\n",
       ":   0.0326692711890885Section-25\n",
       ":   0.0117182518830387\n",
       "\n"
      ],
      "text/plain": [
       "   Section-0    Section-1    Section-2    Section-3    Section-4    Section-5 \n",
       "8.542545e+02 4.744591e+03 4.784340e-06 8.588541e-08 0.000000e+00 0.000000e+00 \n",
       "   Section-6    Section-7    Section-8    Section-9   Section-10   Section-11 \n",
       "2.500533e-01 3.759099e+01 8.101089e+01 0.000000e+00 1.929279e-06 7.833883e-01 \n",
       "  Section-12   Section-13   Section-14   Section-15   Section-16   Section-17 \n",
       "5.038938e-03 4.876536e+02 0.000000e+00 7.133568e-02 5.439850e-01 5.172330e-03 \n",
       "  Section-18   Section-19   Section-20   Section-21   Section-22   Section-23 \n",
       "3.639005e+02 1.406628e-03 0.000000e+00 2.398667e+00 0.000000e+00 0.000000e+00 \n",
       "  Section-24   Section-25 \n",
       "3.266927e-02 1.171825e-02 "
      ]
     },
     "metadata": {},
     "output_type": "display_data"
    }
   ],
   "source": [
    "# 변수 별 분산\n",
    "apply(trainData, 2, var)"
   ]
  },
  {
   "cell_type": "code",
   "execution_count": 7,
   "id": "867e529c",
   "metadata": {},
   "outputs": [],
   "source": [
    "# 분산이 0인 변수 및 불필요 변수 제거\n",
    "train = trainData[,-c(which(apply(trainData, 2, var) == 0), 2,11)] \n",
    "test = testData[,-c(which(apply(trainData, 2, var) == 0), 2, 11)] "
   ]
  },
  {
   "cell_type": "code",
   "execution_count": 8,
   "id": "883f60c4",
   "metadata": {},
   "outputs": [
    {
     "data": {
      "text/html": [
       "<table>\n",
       "<thead><tr><th scope=col>Section-0</th><th scope=col>Section-2</th><th scope=col>Section-3</th><th scope=col>Section-6</th><th scope=col>Section-7</th><th scope=col>Section-8</th><th scope=col>Section-11</th><th scope=col>Section-12</th><th scope=col>Section-13</th><th scope=col>Section-15</th><th scope=col>Section-16</th><th scope=col>Section-17</th><th scope=col>Section-18</th><th scope=col>Section-19</th><th scope=col>Section-21</th><th scope=col>Section-24</th><th scope=col>Section-25</th></tr></thead>\n",
       "<tbody>\n",
       "\t<tr><td>1      </td><td>-0.0007</td><td>-4e-04 </td><td>641.82 </td><td>1589.70</td><td>1400.60</td><td>554.36 </td><td>2388.06</td><td>9046.19</td><td>47.47  </td><td>521.66 </td><td>2388.02</td><td>8138.62</td><td>8.4195 </td><td>392    </td><td>39.06  </td><td>23.4190</td></tr>\n",
       "\t<tr><td>1      </td><td> 0.0019</td><td>-3e-04 </td><td>642.15 </td><td>1591.82</td><td>1403.14</td><td>553.75 </td><td>2388.04</td><td>9044.07</td><td>47.49  </td><td>522.28 </td><td>2388.07</td><td>8131.49</td><td>8.4318 </td><td>392    </td><td>39.00  </td><td>23.4236</td></tr>\n",
       "\t<tr><td>1      </td><td>-0.0043</td><td> 3e-04 </td><td>642.35 </td><td>1587.99</td><td>1404.20</td><td>554.26 </td><td>2388.08</td><td>9052.94</td><td>47.27  </td><td>522.42 </td><td>2388.03</td><td>8133.23</td><td>8.4178 </td><td>390    </td><td>38.95  </td><td>23.3442</td></tr>\n",
       "\t<tr><td>1      </td><td> 0.0007</td><td> 0e+00 </td><td>642.35 </td><td>1582.79</td><td>1401.87</td><td>554.45 </td><td>2388.11</td><td>9049.48</td><td>47.13  </td><td>522.86 </td><td>2388.08</td><td>8133.83</td><td>8.3682 </td><td>392    </td><td>38.88  </td><td>23.3739</td></tr>\n",
       "\t<tr><td>1      </td><td>-0.0019</td><td>-2e-04 </td><td>642.37 </td><td>1582.85</td><td>1406.22</td><td>554.00 </td><td>2388.06</td><td>9055.15</td><td>47.28  </td><td>522.19 </td><td>2388.04</td><td>8133.80</td><td>8.4294 </td><td>393    </td><td>38.90  </td><td>23.4044</td></tr>\n",
       "\t<tr><td>1      </td><td>-0.0043</td><td>-1e-04 </td><td>642.10 </td><td>1584.47</td><td>1398.37</td><td>554.67 </td><td>2388.02</td><td>9049.68</td><td>47.16  </td><td>521.68 </td><td>2388.03</td><td>8132.85</td><td>8.4108 </td><td>391    </td><td>38.98  </td><td>23.3669</td></tr>\n",
       "</tbody>\n",
       "</table>\n"
      ],
      "text/latex": [
       "\\begin{tabular}{r|lllllllllllllllll}\n",
       " Section-0 & Section-2 & Section-3 & Section-6 & Section-7 & Section-8 & Section-11 & Section-12 & Section-13 & Section-15 & Section-16 & Section-17 & Section-18 & Section-19 & Section-21 & Section-24 & Section-25\\\\\n",
       "\\hline\n",
       "\t 1       & -0.0007 & -4e-04  & 641.82  & 1589.70 & 1400.60 & 554.36  & 2388.06 & 9046.19 & 47.47   & 521.66  & 2388.02 & 8138.62 & 8.4195  & 392     & 39.06   & 23.4190\\\\\n",
       "\t 1       &  0.0019 & -3e-04  & 642.15  & 1591.82 & 1403.14 & 553.75  & 2388.04 & 9044.07 & 47.49   & 522.28  & 2388.07 & 8131.49 & 8.4318  & 392     & 39.00   & 23.4236\\\\\n",
       "\t 1       & -0.0043 &  3e-04  & 642.35  & 1587.99 & 1404.20 & 554.26  & 2388.08 & 9052.94 & 47.27   & 522.42  & 2388.03 & 8133.23 & 8.4178  & 390     & 38.95   & 23.3442\\\\\n",
       "\t 1       &  0.0007 &  0e+00  & 642.35  & 1582.79 & 1401.87 & 554.45  & 2388.11 & 9049.48 & 47.13   & 522.86  & 2388.08 & 8133.83 & 8.3682  & 392     & 38.88   & 23.3739\\\\\n",
       "\t 1       & -0.0019 & -2e-04  & 642.37  & 1582.85 & 1406.22 & 554.00  & 2388.06 & 9055.15 & 47.28   & 522.19  & 2388.04 & 8133.80 & 8.4294  & 393     & 38.90   & 23.4044\\\\\n",
       "\t 1       & -0.0043 & -1e-04  & 642.10  & 1584.47 & 1398.37 & 554.67  & 2388.02 & 9049.68 & 47.16   & 521.68  & 2388.03 & 8132.85 & 8.4108  & 391     & 38.98   & 23.3669\\\\\n",
       "\\end{tabular}\n"
      ],
      "text/markdown": [
       "\n",
       "| Section-0 | Section-2 | Section-3 | Section-6 | Section-7 | Section-8 | Section-11 | Section-12 | Section-13 | Section-15 | Section-16 | Section-17 | Section-18 | Section-19 | Section-21 | Section-24 | Section-25 |\n",
       "|---|---|---|---|---|---|---|---|---|---|---|---|---|---|---|---|---|\n",
       "| 1       | -0.0007 | -4e-04  | 641.82  | 1589.70 | 1400.60 | 554.36  | 2388.06 | 9046.19 | 47.47   | 521.66  | 2388.02 | 8138.62 | 8.4195  | 392     | 39.06   | 23.4190 |\n",
       "| 1       |  0.0019 | -3e-04  | 642.15  | 1591.82 | 1403.14 | 553.75  | 2388.04 | 9044.07 | 47.49   | 522.28  | 2388.07 | 8131.49 | 8.4318  | 392     | 39.00   | 23.4236 |\n",
       "| 1       | -0.0043 |  3e-04  | 642.35  | 1587.99 | 1404.20 | 554.26  | 2388.08 | 9052.94 | 47.27   | 522.42  | 2388.03 | 8133.23 | 8.4178  | 390     | 38.95   | 23.3442 |\n",
       "| 1       |  0.0007 |  0e+00  | 642.35  | 1582.79 | 1401.87 | 554.45  | 2388.11 | 9049.48 | 47.13   | 522.86  | 2388.08 | 8133.83 | 8.3682  | 392     | 38.88   | 23.3739 |\n",
       "| 1       | -0.0019 | -2e-04  | 642.37  | 1582.85 | 1406.22 | 554.00  | 2388.06 | 9055.15 | 47.28   | 522.19  | 2388.04 | 8133.80 | 8.4294  | 393     | 38.90   | 23.4044 |\n",
       "| 1       | -0.0043 | -1e-04  | 642.10  | 1584.47 | 1398.37 | 554.67  | 2388.02 | 9049.68 | 47.16   | 521.68  | 2388.03 | 8132.85 | 8.4108  | 391     | 38.98   | 23.3669 |\n",
       "\n"
      ],
      "text/plain": [
       "  Section-0 Section-2 Section-3 Section-6 Section-7 Section-8 Section-11\n",
       "1 1         -0.0007   -4e-04    641.82    1589.70   1400.60   554.36    \n",
       "2 1          0.0019   -3e-04    642.15    1591.82   1403.14   553.75    \n",
       "3 1         -0.0043    3e-04    642.35    1587.99   1404.20   554.26    \n",
       "4 1          0.0007    0e+00    642.35    1582.79   1401.87   554.45    \n",
       "5 1         -0.0019   -2e-04    642.37    1582.85   1406.22   554.00    \n",
       "6 1         -0.0043   -1e-04    642.10    1584.47   1398.37   554.67    \n",
       "  Section-12 Section-13 Section-15 Section-16 Section-17 Section-18 Section-19\n",
       "1 2388.06    9046.19    47.47      521.66     2388.02    8138.62    8.4195    \n",
       "2 2388.04    9044.07    47.49      522.28     2388.07    8131.49    8.4318    \n",
       "3 2388.08    9052.94    47.27      522.42     2388.03    8133.23    8.4178    \n",
       "4 2388.11    9049.48    47.13      522.86     2388.08    8133.83    8.3682    \n",
       "5 2388.06    9055.15    47.28      522.19     2388.04    8133.80    8.4294    \n",
       "6 2388.02    9049.68    47.16      521.68     2388.03    8132.85    8.4108    \n",
       "  Section-21 Section-24 Section-25\n",
       "1 392        39.06      23.4190   \n",
       "2 392        39.00      23.4236   \n",
       "3 390        38.95      23.3442   \n",
       "4 392        38.88      23.3739   \n",
       "5 393        38.90      23.4044   \n",
       "6 391        38.98      23.3669   "
      ]
     },
     "metadata": {},
     "output_type": "display_data"
    }
   ],
   "source": [
    "head(train)"
   ]
  },
  {
   "cell_type": "code",
   "execution_count": 9,
   "id": "0d31340b",
   "metadata": {},
   "outputs": [
    {
     "data": {
      "text/html": [
       "<table>\n",
       "<thead><tr><th scope=col>Section-0</th><th scope=col>Section-2</th><th scope=col>Section-3</th><th scope=col>Section-6</th><th scope=col>Section-7</th><th scope=col>Section-8</th><th scope=col>Section-11</th><th scope=col>Section-12</th><th scope=col>Section-13</th><th scope=col>Section-15</th><th scope=col>Section-16</th><th scope=col>Section-17</th><th scope=col>Section-18</th><th scope=col>Section-19</th><th scope=col>Section-21</th><th scope=col>Section-24</th><th scope=col>Section-25</th></tr></thead>\n",
       "<tbody>\n",
       "\t<tr><td>1      </td><td> 0.0023</td><td> 3e-04 </td><td>643.02 </td><td>1585.29</td><td>1398.21</td><td>553.90 </td><td>2388.04</td><td>9050.17</td><td>47.20  </td><td>521.72 </td><td>2388.03</td><td>8125.55</td><td>8.4052 </td><td>392    </td><td>38.86  </td><td>23.3735</td></tr>\n",
       "\t<tr><td>1      </td><td>-0.0027</td><td>-3e-04 </td><td>641.71 </td><td>1588.45</td><td>1395.42</td><td>554.85 </td><td>2388.01</td><td>9054.42</td><td>47.50  </td><td>522.16 </td><td>2388.06</td><td>8139.62</td><td>8.3803 </td><td>393    </td><td>39.02  </td><td>23.3916</td></tr>\n",
       "\t<tr><td>1      </td><td> 0.0003</td><td> 1e-04 </td><td>642.46 </td><td>1586.94</td><td>1401.34</td><td>554.11 </td><td>2388.05</td><td>9056.96</td><td>47.50  </td><td>521.97 </td><td>2388.03</td><td>8130.10</td><td>8.4441 </td><td>393    </td><td>39.08  </td><td>23.4166</td></tr>\n",
       "\t<tr><td>1      </td><td> 0.0042</td><td> 0e+00 </td><td>642.44 </td><td>1584.12</td><td>1406.42</td><td>554.07 </td><td>2388.03</td><td>9045.29</td><td>47.28  </td><td>521.38 </td><td>2388.05</td><td>8132.90</td><td>8.3917 </td><td>391    </td><td>39.00  </td><td>23.3737</td></tr>\n",
       "\t<tr><td>1      </td><td> 0.0014</td><td> 0e+00 </td><td>642.51 </td><td>1587.19</td><td>1401.92</td><td>554.16 </td><td>2388.01</td><td>9044.55</td><td>47.31  </td><td>522.15 </td><td>2388.03</td><td>8129.54</td><td>8.4031 </td><td>390    </td><td>38.99  </td><td>23.4130</td></tr>\n",
       "\t<tr><td>1      </td><td> 0.0012</td><td> 3e-04 </td><td>642.11 </td><td>1579.12</td><td>1395.13</td><td>554.22 </td><td>2388.00</td><td>9050.96</td><td>47.26  </td><td>521.92 </td><td>2388.08</td><td>8127.46</td><td>8.4238 </td><td>392    </td><td>38.91  </td><td>23.3467</td></tr>\n",
       "</tbody>\n",
       "</table>\n"
      ],
      "text/latex": [
       "\\begin{tabular}{r|lllllllllllllllll}\n",
       " Section-0 & Section-2 & Section-3 & Section-6 & Section-7 & Section-8 & Section-11 & Section-12 & Section-13 & Section-15 & Section-16 & Section-17 & Section-18 & Section-19 & Section-21 & Section-24 & Section-25\\\\\n",
       "\\hline\n",
       "\t 1       &  0.0023 &  3e-04  & 643.02  & 1585.29 & 1398.21 & 553.90  & 2388.04 & 9050.17 & 47.20   & 521.72  & 2388.03 & 8125.55 & 8.4052  & 392     & 38.86   & 23.3735\\\\\n",
       "\t 1       & -0.0027 & -3e-04  & 641.71  & 1588.45 & 1395.42 & 554.85  & 2388.01 & 9054.42 & 47.50   & 522.16  & 2388.06 & 8139.62 & 8.3803  & 393     & 39.02   & 23.3916\\\\\n",
       "\t 1       &  0.0003 &  1e-04  & 642.46  & 1586.94 & 1401.34 & 554.11  & 2388.05 & 9056.96 & 47.50   & 521.97  & 2388.03 & 8130.10 & 8.4441  & 393     & 39.08   & 23.4166\\\\\n",
       "\t 1       &  0.0042 &  0e+00  & 642.44  & 1584.12 & 1406.42 & 554.07  & 2388.03 & 9045.29 & 47.28   & 521.38  & 2388.05 & 8132.90 & 8.3917  & 391     & 39.00   & 23.3737\\\\\n",
       "\t 1       &  0.0014 &  0e+00  & 642.51  & 1587.19 & 1401.92 & 554.16  & 2388.01 & 9044.55 & 47.31   & 522.15  & 2388.03 & 8129.54 & 8.4031  & 390     & 38.99   & 23.4130\\\\\n",
       "\t 1       &  0.0012 &  3e-04  & 642.11  & 1579.12 & 1395.13 & 554.22  & 2388.00 & 9050.96 & 47.26   & 521.92  & 2388.08 & 8127.46 & 8.4238  & 392     & 38.91   & 23.3467\\\\\n",
       "\\end{tabular}\n"
      ],
      "text/markdown": [
       "\n",
       "| Section-0 | Section-2 | Section-3 | Section-6 | Section-7 | Section-8 | Section-11 | Section-12 | Section-13 | Section-15 | Section-16 | Section-17 | Section-18 | Section-19 | Section-21 | Section-24 | Section-25 |\n",
       "|---|---|---|---|---|---|---|---|---|---|---|---|---|---|---|---|---|\n",
       "| 1       |  0.0023 |  3e-04  | 643.02  | 1585.29 | 1398.21 | 553.90  | 2388.04 | 9050.17 | 47.20   | 521.72  | 2388.03 | 8125.55 | 8.4052  | 392     | 38.86   | 23.3735 |\n",
       "| 1       | -0.0027 | -3e-04  | 641.71  | 1588.45 | 1395.42 | 554.85  | 2388.01 | 9054.42 | 47.50   | 522.16  | 2388.06 | 8139.62 | 8.3803  | 393     | 39.02   | 23.3916 |\n",
       "| 1       |  0.0003 |  1e-04  | 642.46  | 1586.94 | 1401.34 | 554.11  | 2388.05 | 9056.96 | 47.50   | 521.97  | 2388.03 | 8130.10 | 8.4441  | 393     | 39.08   | 23.4166 |\n",
       "| 1       |  0.0042 |  0e+00  | 642.44  | 1584.12 | 1406.42 | 554.07  | 2388.03 | 9045.29 | 47.28   | 521.38  | 2388.05 | 8132.90 | 8.3917  | 391     | 39.00   | 23.3737 |\n",
       "| 1       |  0.0014 |  0e+00  | 642.51  | 1587.19 | 1401.92 | 554.16  | 2388.01 | 9044.55 | 47.31   | 522.15  | 2388.03 | 8129.54 | 8.4031  | 390     | 38.99   | 23.4130 |\n",
       "| 1       |  0.0012 |  3e-04  | 642.11  | 1579.12 | 1395.13 | 554.22  | 2388.00 | 9050.96 | 47.26   | 521.92  | 2388.08 | 8127.46 | 8.4238  | 392     | 38.91   | 23.3467 |\n",
       "\n"
      ],
      "text/plain": [
       "  Section-0 Section-2 Section-3 Section-6 Section-7 Section-8 Section-11\n",
       "1 1          0.0023    3e-04    643.02    1585.29   1398.21   553.90    \n",
       "2 1         -0.0027   -3e-04    641.71    1588.45   1395.42   554.85    \n",
       "3 1          0.0003    1e-04    642.46    1586.94   1401.34   554.11    \n",
       "4 1          0.0042    0e+00    642.44    1584.12   1406.42   554.07    \n",
       "5 1          0.0014    0e+00    642.51    1587.19   1401.92   554.16    \n",
       "6 1          0.0012    3e-04    642.11    1579.12   1395.13   554.22    \n",
       "  Section-12 Section-13 Section-15 Section-16 Section-17 Section-18 Section-19\n",
       "1 2388.04    9050.17    47.20      521.72     2388.03    8125.55    8.4052    \n",
       "2 2388.01    9054.42    47.50      522.16     2388.06    8139.62    8.3803    \n",
       "3 2388.05    9056.96    47.50      521.97     2388.03    8130.10    8.4441    \n",
       "4 2388.03    9045.29    47.28      521.38     2388.05    8132.90    8.3917    \n",
       "5 2388.01    9044.55    47.31      522.15     2388.03    8129.54    8.4031    \n",
       "6 2388.00    9050.96    47.26      521.92     2388.08    8127.46    8.4238    \n",
       "  Section-21 Section-24 Section-25\n",
       "1 392        38.86      23.3735   \n",
       "2 393        39.02      23.3916   \n",
       "3 393        39.08      23.4166   \n",
       "4 391        39.00      23.3737   \n",
       "5 390        38.99      23.4130   \n",
       "6 392        38.91      23.3467   "
      ]
     },
     "metadata": {},
     "output_type": "display_data"
    }
   ],
   "source": [
    "head(test)"
   ]
  },
  {
   "cell_type": "code",
   "execution_count": 10,
   "id": "a44e3c77",
   "metadata": {},
   "outputs": [
    {
     "name": "stdout",
     "output_type": "stream",
     "text": [
      "  [1] 192 287 179 189 269 188 259 150 201 222 240 170 163 180 207 209 276 195\n",
      " [19] 158 234 195 202 168 147 230 199 156 165 163 194 234 191 200 195 181 158\n",
      " [37] 170 194 128 188 216 196 207 192 158 256 214 231 215 198 213 213 195 257\n",
      " [55] 193 275 137 147 231 172 185 180 174 283 153 202 313 199 362 137 208 213\n",
      " [73] 213 166 229 210 154 231 199 185 240 214 293 267 188 278 178 213 217 154\n",
      " [91] 135 341 155 258 283 336 202 156 185 200\n"
     ]
    },
    {
     "data": {
      "image/png": "[encoded data removed]",
      "text/plain": [
       "Plot with title \" EoL per Machine (1~100)\""
      ]
     },
     "metadata": {},
     "output_type": "display_data"
    }
   ],
   "source": [
    "# Machine Number\n",
    "machineNum = as.numeric(names(table(train$'Section-0')))\n",
    "# EoL (End of Life)\n",
    "trainEoL = as.numeric(table(train$'Section-0'))\n",
    "testEoL = read.table('E:\\\\데이터\\\\예지보전\\\\CMAPSSData\\\\EoL_FD001.txt')\n",
    "testEoL = testEoL$V1\n",
    "\n",
    "# library(repr)\n",
    "options(repr.plot.width = 8, repr.plot.height = 4)\n",
    "plot(machineNum, trainEoL, pch=16, main = ' EoL per Machine (1~100)')\n",
    "print(trainEoL)"
   ]
  },
  {
   "cell_type": "code",
   "execution_count": 11,
   "id": "fd71e229",
   "metadata": {},
   "outputs": [],
   "source": [
    "# Machine 별로 데이터 보기 & 모델링을 위해 머신 정보 제거\n",
    "machineNum = 1\n",
    "trainM =train[train$`Section-0`== machineNum, -1]\n",
    "testM =test[test$`Section-0`== machineNum, -1] "
   ]
  },
  {
   "cell_type": "code",
   "execution_count": 12,
   "id": "1a472359",
   "metadata": {},
   "outputs": [
    {
     "data": {
      "text/html": [
       "<table>\n",
       "<thead><tr><th scope=col>Section-2</th><th scope=col>Section-3</th><th scope=col>Section-6</th><th scope=col>Section-7</th><th scope=col>Section-8</th><th scope=col>Section-11</th><th scope=col>Section-12</th><th scope=col>Section-13</th><th scope=col>Section-15</th><th scope=col>Section-16</th><th scope=col>Section-17</th><th scope=col>Section-18</th><th scope=col>Section-19</th><th scope=col>Section-21</th><th scope=col>Section-24</th><th scope=col>Section-25</th></tr></thead>\n",
       "<tbody>\n",
       "\t<tr><td>-0.0007</td><td>-4e-04 </td><td>641.82 </td><td>1589.70</td><td>1400.60</td><td>554.36 </td><td>2388.06</td><td>9046.19</td><td>47.47  </td><td>521.66 </td><td>2388.02</td><td>8138.62</td><td>8.4195 </td><td>392    </td><td>39.06  </td><td>23.4190</td></tr>\n",
       "\t<tr><td> 0.0019</td><td>-3e-04 </td><td>642.15 </td><td>1591.82</td><td>1403.14</td><td>553.75 </td><td>2388.04</td><td>9044.07</td><td>47.49  </td><td>522.28 </td><td>2388.07</td><td>8131.49</td><td>8.4318 </td><td>392    </td><td>39.00  </td><td>23.4236</td></tr>\n",
       "\t<tr><td>-0.0043</td><td> 3e-04 </td><td>642.35 </td><td>1587.99</td><td>1404.20</td><td>554.26 </td><td>2388.08</td><td>9052.94</td><td>47.27  </td><td>522.42 </td><td>2388.03</td><td>8133.23</td><td>8.4178 </td><td>390    </td><td>38.95  </td><td>23.3442</td></tr>\n",
       "\t<tr><td> 0.0007</td><td> 0e+00 </td><td>642.35 </td><td>1582.79</td><td>1401.87</td><td>554.45 </td><td>2388.11</td><td>9049.48</td><td>47.13  </td><td>522.86 </td><td>2388.08</td><td>8133.83</td><td>8.3682 </td><td>392    </td><td>38.88  </td><td>23.3739</td></tr>\n",
       "\t<tr><td>-0.0019</td><td>-2e-04 </td><td>642.37 </td><td>1582.85</td><td>1406.22</td><td>554.00 </td><td>2388.06</td><td>9055.15</td><td>47.28  </td><td>522.19 </td><td>2388.04</td><td>8133.80</td><td>8.4294 </td><td>393    </td><td>38.90  </td><td>23.4044</td></tr>\n",
       "\t<tr><td>-0.0043</td><td>-1e-04 </td><td>642.10 </td><td>1584.47</td><td>1398.37</td><td>554.67 </td><td>2388.02</td><td>9049.68</td><td>47.16  </td><td>521.68 </td><td>2388.03</td><td>8132.85</td><td>8.4108 </td><td>391    </td><td>38.98  </td><td>23.3669</td></tr>\n",
       "</tbody>\n",
       "</table>\n"
      ],
      "text/latex": [
       "\\begin{tabular}{r|llllllllllllllll}\n",
       " Section-2 & Section-3 & Section-6 & Section-7 & Section-8 & Section-11 & Section-12 & Section-13 & Section-15 & Section-16 & Section-17 & Section-18 & Section-19 & Section-21 & Section-24 & Section-25\\\\\n",
       "\\hline\n",
       "\t -0.0007 & -4e-04  & 641.82  & 1589.70 & 1400.60 & 554.36  & 2388.06 & 9046.19 & 47.47   & 521.66  & 2388.02 & 8138.62 & 8.4195  & 392     & 39.06   & 23.4190\\\\\n",
       "\t  0.0019 & -3e-04  & 642.15  & 1591.82 & 1403.14 & 553.75  & 2388.04 & 9044.07 & 47.49   & 522.28  & 2388.07 & 8131.49 & 8.4318  & 392     & 39.00   & 23.4236\\\\\n",
       "\t -0.0043 &  3e-04  & 642.35  & 1587.99 & 1404.20 & 554.26  & 2388.08 & 9052.94 & 47.27   & 522.42  & 2388.03 & 8133.23 & 8.4178  & 390     & 38.95   & 23.3442\\\\\n",
       "\t  0.0007 &  0e+00  & 642.35  & 1582.79 & 1401.87 & 554.45  & 2388.11 & 9049.48 & 47.13   & 522.86  & 2388.08 & 8133.83 & 8.3682  & 392     & 38.88   & 23.3739\\\\\n",
       "\t -0.0019 & -2e-04  & 642.37  & 1582.85 & 1406.22 & 554.00  & 2388.06 & 9055.15 & 47.28   & 522.19  & 2388.04 & 8133.80 & 8.4294  & 393     & 38.90   & 23.4044\\\\\n",
       "\t -0.0043 & -1e-04  & 642.10  & 1584.47 & 1398.37 & 554.67  & 2388.02 & 9049.68 & 47.16   & 521.68  & 2388.03 & 8132.85 & 8.4108  & 391     & 38.98   & 23.3669\\\\\n",
       "\\end{tabular}\n"
      ],
      "text/markdown": [
       "\n",
       "| Section-2 | Section-3 | Section-6 | Section-7 | Section-8 | Section-11 | Section-12 | Section-13 | Section-15 | Section-16 | Section-17 | Section-18 | Section-19 | Section-21 | Section-24 | Section-25 |\n",
       "|---|---|---|---|---|---|---|---|---|---|---|---|---|---|---|---|\n",
       "| -0.0007 | -4e-04  | 641.82  | 1589.70 | 1400.60 | 554.36  | 2388.06 | 9046.19 | 47.47   | 521.66  | 2388.02 | 8138.62 | 8.4195  | 392     | 39.06   | 23.4190 |\n",
       "|  0.0019 | -3e-04  | 642.15  | 1591.82 | 1403.14 | 553.75  | 2388.04 | 9044.07 | 47.49   | 522.28  | 2388.07 | 8131.49 | 8.4318  | 392     | 39.00   | 23.4236 |\n",
       "| -0.0043 |  3e-04  | 642.35  | 1587.99 | 1404.20 | 554.26  | 2388.08 | 9052.94 | 47.27   | 522.42  | 2388.03 | 8133.23 | 8.4178  | 390     | 38.95   | 23.3442 |\n",
       "|  0.0007 |  0e+00  | 642.35  | 1582.79 | 1401.87 | 554.45  | 2388.11 | 9049.48 | 47.13   | 522.86  | 2388.08 | 8133.83 | 8.3682  | 392     | 38.88   | 23.3739 |\n",
       "| -0.0019 | -2e-04  | 642.37  | 1582.85 | 1406.22 | 554.00  | 2388.06 | 9055.15 | 47.28   | 522.19  | 2388.04 | 8133.80 | 8.4294  | 393     | 38.90   | 23.4044 |\n",
       "| -0.0043 | -1e-04  | 642.10  | 1584.47 | 1398.37 | 554.67  | 2388.02 | 9049.68 | 47.16   | 521.68  | 2388.03 | 8132.85 | 8.4108  | 391     | 38.98   | 23.3669 |\n",
       "\n"
      ],
      "text/plain": [
       "  Section-2 Section-3 Section-6 Section-7 Section-8 Section-11 Section-12\n",
       "1 -0.0007   -4e-04    641.82    1589.70   1400.60   554.36     2388.06   \n",
       "2  0.0019   -3e-04    642.15    1591.82   1403.14   553.75     2388.04   \n",
       "3 -0.0043    3e-04    642.35    1587.99   1404.20   554.26     2388.08   \n",
       "4  0.0007    0e+00    642.35    1582.79   1401.87   554.45     2388.11   \n",
       "5 -0.0019   -2e-04    642.37    1582.85   1406.22   554.00     2388.06   \n",
       "6 -0.0043   -1e-04    642.10    1584.47   1398.37   554.67     2388.02   \n",
       "  Section-13 Section-15 Section-16 Section-17 Section-18 Section-19 Section-21\n",
       "1 9046.19    47.47      521.66     2388.02    8138.62    8.4195     392       \n",
       "2 9044.07    47.49      522.28     2388.07    8131.49    8.4318     392       \n",
       "3 9052.94    47.27      522.42     2388.03    8133.23    8.4178     390       \n",
       "4 9049.48    47.13      522.86     2388.08    8133.83    8.3682     392       \n",
       "5 9055.15    47.28      522.19     2388.04    8133.80    8.4294     393       \n",
       "6 9049.68    47.16      521.68     2388.03    8132.85    8.4108     391       \n",
       "  Section-24 Section-25\n",
       "1 39.06      23.4190   \n",
       "2 39.00      23.4236   \n",
       "3 38.95      23.3442   \n",
       "4 38.88      23.3739   \n",
       "5 38.90      23.4044   \n",
       "6 38.98      23.3669   "
      ]
     },
     "metadata": {},
     "output_type": "display_data"
    }
   ],
   "source": [
    "head(trainM)"
   ]
  },
  {
   "cell_type": "code",
   "execution_count": 13,
   "id": "91eaeec4",
   "metadata": {},
   "outputs": [
    {
     "data": {
      "text/html": [
       "<table>\n",
       "<thead><tr><th scope=col>Section-2</th><th scope=col>Section-3</th><th scope=col>Section-6</th><th scope=col>Section-7</th><th scope=col>Section-8</th><th scope=col>Section-11</th><th scope=col>Section-12</th><th scope=col>Section-13</th><th scope=col>Section-15</th><th scope=col>Section-16</th><th scope=col>Section-17</th><th scope=col>Section-18</th><th scope=col>Section-19</th><th scope=col>Section-21</th><th scope=col>Section-24</th><th scope=col>Section-25</th></tr></thead>\n",
       "<tbody>\n",
       "\t<tr><td> 0.0023</td><td> 3e-04 </td><td>643.02 </td><td>1585.29</td><td>1398.21</td><td>553.90 </td><td>2388.04</td><td>9050.17</td><td>47.20  </td><td>521.72 </td><td>2388.03</td><td>8125.55</td><td>8.4052 </td><td>392    </td><td>38.86  </td><td>23.3735</td></tr>\n",
       "\t<tr><td>-0.0027</td><td>-3e-04 </td><td>641.71 </td><td>1588.45</td><td>1395.42</td><td>554.85 </td><td>2388.01</td><td>9054.42</td><td>47.50  </td><td>522.16 </td><td>2388.06</td><td>8139.62</td><td>8.3803 </td><td>393    </td><td>39.02  </td><td>23.3916</td></tr>\n",
       "\t<tr><td> 0.0003</td><td> 1e-04 </td><td>642.46 </td><td>1586.94</td><td>1401.34</td><td>554.11 </td><td>2388.05</td><td>9056.96</td><td>47.50  </td><td>521.97 </td><td>2388.03</td><td>8130.10</td><td>8.4441 </td><td>393    </td><td>39.08  </td><td>23.4166</td></tr>\n",
       "\t<tr><td> 0.0042</td><td> 0e+00 </td><td>642.44 </td><td>1584.12</td><td>1406.42</td><td>554.07 </td><td>2388.03</td><td>9045.29</td><td>47.28  </td><td>521.38 </td><td>2388.05</td><td>8132.90</td><td>8.3917 </td><td>391    </td><td>39.00  </td><td>23.3737</td></tr>\n",
       "\t<tr><td> 0.0014</td><td> 0e+00 </td><td>642.51 </td><td>1587.19</td><td>1401.92</td><td>554.16 </td><td>2388.01</td><td>9044.55</td><td>47.31  </td><td>522.15 </td><td>2388.03</td><td>8129.54</td><td>8.4031 </td><td>390    </td><td>38.99  </td><td>23.4130</td></tr>\n",
       "\t<tr><td> 0.0012</td><td> 3e-04 </td><td>642.11 </td><td>1579.12</td><td>1395.13</td><td>554.22 </td><td>2388.00</td><td>9050.96</td><td>47.26  </td><td>521.92 </td><td>2388.08</td><td>8127.46</td><td>8.4238 </td><td>392    </td><td>38.91  </td><td>23.3467</td></tr>\n",
       "</tbody>\n",
       "</table>\n"
      ],
      "text/latex": [
       "\\begin{tabular}{r|llllllllllllllll}\n",
       " Section-2 & Section-3 & Section-6 & Section-7 & Section-8 & Section-11 & Section-12 & Section-13 & Section-15 & Section-16 & Section-17 & Section-18 & Section-19 & Section-21 & Section-24 & Section-25\\\\\n",
       "\\hline\n",
       "\t  0.0023 &  3e-04  & 643.02  & 1585.29 & 1398.21 & 553.90  & 2388.04 & 9050.17 & 47.20   & 521.72  & 2388.03 & 8125.55 & 8.4052  & 392     & 38.86   & 23.3735\\\\\n",
       "\t -0.0027 & -3e-04  & 641.71  & 1588.45 & 1395.42 & 554.85  & 2388.01 & 9054.42 & 47.50   & 522.16  & 2388.06 & 8139.62 & 8.3803  & 393     & 39.02   & 23.3916\\\\\n",
       "\t  0.0003 &  1e-04  & 642.46  & 1586.94 & 1401.34 & 554.11  & 2388.05 & 9056.96 & 47.50   & 521.97  & 2388.03 & 8130.10 & 8.4441  & 393     & 39.08   & 23.4166\\\\\n",
       "\t  0.0042 &  0e+00  & 642.44  & 1584.12 & 1406.42 & 554.07  & 2388.03 & 9045.29 & 47.28   & 521.38  & 2388.05 & 8132.90 & 8.3917  & 391     & 39.00   & 23.3737\\\\\n",
       "\t  0.0014 &  0e+00  & 642.51  & 1587.19 & 1401.92 & 554.16  & 2388.01 & 9044.55 & 47.31   & 522.15  & 2388.03 & 8129.54 & 8.4031  & 390     & 38.99   & 23.4130\\\\\n",
       "\t  0.0012 &  3e-04  & 642.11  & 1579.12 & 1395.13 & 554.22  & 2388.00 & 9050.96 & 47.26   & 521.92  & 2388.08 & 8127.46 & 8.4238  & 392     & 38.91   & 23.3467\\\\\n",
       "\\end{tabular}\n"
      ],
      "text/markdown": [
       "\n",
       "| Section-2 | Section-3 | Section-6 | Section-7 | Section-8 | Section-11 | Section-12 | Section-13 | Section-15 | Section-16 | Section-17 | Section-18 | Section-19 | Section-21 | Section-24 | Section-25 |\n",
       "|---|---|---|---|---|---|---|---|---|---|---|---|---|---|---|---|\n",
       "|  0.0023 |  3e-04  | 643.02  | 1585.29 | 1398.21 | 553.90  | 2388.04 | 9050.17 | 47.20   | 521.72  | 2388.03 | 8125.55 | 8.4052  | 392     | 38.86   | 23.3735 |\n",
       "| -0.0027 | -3e-04  | 641.71  | 1588.45 | 1395.42 | 554.85  | 2388.01 | 9054.42 | 47.50   | 522.16  | 2388.06 | 8139.62 | 8.3803  | 393     | 39.02   | 23.3916 |\n",
       "|  0.0003 |  1e-04  | 642.46  | 1586.94 | 1401.34 | 554.11  | 2388.05 | 9056.96 | 47.50   | 521.97  | 2388.03 | 8130.10 | 8.4441  | 393     | 39.08   | 23.4166 |\n",
       "|  0.0042 |  0e+00  | 642.44  | 1584.12 | 1406.42 | 554.07  | 2388.03 | 9045.29 | 47.28   | 521.38  | 2388.05 | 8132.90 | 8.3917  | 391     | 39.00   | 23.3737 |\n",
       "|  0.0014 |  0e+00  | 642.51  | 1587.19 | 1401.92 | 554.16  | 2388.01 | 9044.55 | 47.31   | 522.15  | 2388.03 | 8129.54 | 8.4031  | 390     | 38.99   | 23.4130 |\n",
       "|  0.0012 |  3e-04  | 642.11  | 1579.12 | 1395.13 | 554.22  | 2388.00 | 9050.96 | 47.26   | 521.92  | 2388.08 | 8127.46 | 8.4238  | 392     | 38.91   | 23.3467 |\n",
       "\n"
      ],
      "text/plain": [
       "  Section-2 Section-3 Section-6 Section-7 Section-8 Section-11 Section-12\n",
       "1  0.0023    3e-04    643.02    1585.29   1398.21   553.90     2388.04   \n",
       "2 -0.0027   -3e-04    641.71    1588.45   1395.42   554.85     2388.01   \n",
       "3  0.0003    1e-04    642.46    1586.94   1401.34   554.11     2388.05   \n",
       "4  0.0042    0e+00    642.44    1584.12   1406.42   554.07     2388.03   \n",
       "5  0.0014    0e+00    642.51    1587.19   1401.92   554.16     2388.01   \n",
       "6  0.0012    3e-04    642.11    1579.12   1395.13   554.22     2388.00   \n",
       "  Section-13 Section-15 Section-16 Section-17 Section-18 Section-19 Section-21\n",
       "1 9050.17    47.20      521.72     2388.03    8125.55    8.4052     392       \n",
       "2 9054.42    47.50      522.16     2388.06    8139.62    8.3803     393       \n",
       "3 9056.96    47.50      521.97     2388.03    8130.10    8.4441     393       \n",
       "4 9045.29    47.28      521.38     2388.05    8132.90    8.3917     391       \n",
       "5 9044.55    47.31      522.15     2388.03    8129.54    8.4031     390       \n",
       "6 9050.96    47.26      521.92     2388.08    8127.46    8.4238     392       \n",
       "  Section-24 Section-25\n",
       "1 38.86      23.3735   \n",
       "2 39.02      23.3916   \n",
       "3 39.08      23.4166   \n",
       "4 39.00      23.3737   \n",
       "5 38.99      23.4130   \n",
       "6 38.91      23.3467   "
      ]
     },
     "metadata": {},
     "output_type": "display_data"
    }
   ],
   "source": [
    "head(testM )"
   ]
  },
  {
   "cell_type": "code",
   "execution_count": 14,
   "id": "778426f9",
   "metadata": {},
   "outputs": [
    {
     "data": {
      "image/png": "[encoded data removed]",
      "text/plain": [
       "Plot with title \"differencing data\""
      ]
     },
     "metadata": {},
     "output_type": "display_data"
    }
   ],
   "source": [
    "# raw 데이터 & differencing data 시각화\n",
    "colNum = 5\n",
    "\n",
    "par(mfrow=c(2,1))\n",
    "options(repr.plot.width = 8, repr.plot.height = 8)\n",
    "\n",
    "plot(trainM[,colNum], pch=16, type='o', main='raw data', xlab='Time', ylab='sensing value')\n",
    "plot(diff(trainM[,colNum]), pch=16, type='o', main='differencing data', xlab='Time', ylab='differencing sensing value', col='blue')"
   ]
  },
  {
   "cell_type": "markdown",
   "id": "9c8430af",
   "metadata": {},
   "source": [
    "<h4> - 위 그래프는 Raw 데이터와 차분한 데이터를 나타냄 </h4>\n",
    "<h4> - 위 그래프를 봤을때, 해당 항공기 터빈엔진 데이터는 변동성이 굉장히 큰 데이터임 (노이즈가 많음) </h4>\n",
    "<h4> - 추후에 Smoothing 작업을 통해 노이즈를 줄일 필요가 있음 </h4>"
   ]
  },
  {
   "cell_type": "markdown",
   "id": "070c4268",
   "metadata": {},
   "source": [
    "## Correlation Analysis"
   ]
  },
  {
   "cell_type": "code",
   "execution_count": 53,
   "id": "c072cb13",
   "metadata": {},
   "outputs": [],
   "source": [
    "machineNum = 91\n",
    "trainM =train[train$`Section-0`== machineNum,]\n",
    "testM =test[test$`Section-0`== machineNum,] "
   ]
  },
  {
   "cell_type": "code",
   "execution_count": 54,
   "id": "5cbdfe0a",
   "metadata": {},
   "outputs": [],
   "source": [
    "# install.packages('corrplot')\n",
    "library(corrplot)"
   ]
  },
  {
   "cell_type": "code",
   "execution_count": 91,
   "id": "069c19d9",
   "metadata": {},
   "outputs": [
    {
     "name": "stdout",
     "output_type": "stream",
     "text": [
      "\n",
      "총수명 :  135"
     ]
    },
    {
     "data": {
      "image/png": "[encoded data removed]",
      "text/plain": [
       "Plot with title \"Cycle : 135\""
      ]
     },
     "metadata": {},
     "output_type": "display_data"
    }
   ],
   "source": [
    "# corrplot of train data\n",
    "par(mfrow=c(2,3))\n",
    "options(repr.plot.width = 7, repr.plot.height = 7)\n",
    "for(i in c(3,25, 50,100, 125, 135)){\n",
    "    corr = cor(trainM[1:i,-1])\n",
    "    corrplot(corr, title=paste0('Cycle : ', i), order='AOE',cl.pos=\"n\",tl.pos=\"n\", mar=c(0,0,1,0))\n",
    "}\n",
    "cat('\\n총수명 : ', nrow(trainM))"
   ]
  },
  {
   "cell_type": "markdown",
   "id": "3d952107",
   "metadata": {},
   "source": [
    "- <h4> 위 그래프는 Machine 91의 Cycle 별 Correlation Plot을 나타냄</h4>\n",
    "- <h4> 위 그래프를 봤을때, Correlation 값이 초반(Cycle: 3, 25)에 큰 값을 나타내고, </h4>\n",
    "- <h4> 중간 지점 (Cycle : 25, 50)에서 값이 안정된 후, </h4> \n",
    "- <h4> 고장시점에 가까울 수록 Correlation 값이 커짐을 보임 (Cycle : 100, 125, 135) </h4>\n",
    "- <h4> 이는 고장률 혹은 수명을 나타내는 Bathtub-Curve 분포와 유사한 형태를 띨 것으로 예상됨 </h4>"
   ]
  },
  {
   "cell_type": "code",
   "execution_count": 84,
   "id": "9e7ba332",
   "metadata": {},
   "outputs": [],
   "source": [
    "# 시뮬레이션 코드 (Rstudio에서 작동)\n",
    "# for(i in 2:nrow(trainM)){\n",
    "#   corr = cor(trainM[1:i,-1])\n",
    "#   corrplot(corr)\n",
    "#   Sys.sleep(0.5)\n",
    "#   cat('\\n총수명 : ', nrow(trainM))\n",
    "#   cat('\\ntime : ', i)\n",
    "# }"
   ]
  },
  {
   "cell_type": "code",
   "execution_count": 106,
   "id": "a7ec3404",
   "metadata": {},
   "outputs": [],
   "source": [
    "## Train data correlation\n",
    "trainCorL2normVec = c()\n",
    "for(i in 3:nrow(trainM)){\n",
    "  corr = cor(trainM[1:i,-1])\n",
    "  corL2norm = sum(sqrt(corr^2)) - sum(sqrt(diag(corr^2)))\n",
    "  trainCorL2normVec = append(trainCorL2normVec, corL2norm)\n",
    "}"
   ]
  },
  {
   "cell_type": "code",
   "execution_count": 107,
   "id": "26e1b7b4",
   "metadata": {},
   "outputs": [
    {
     "data": {
      "image/png": "[encoded data removed]",
      "text/plain": [
       "Plot with title \"Train data : Machine 91 Correlation L2-Norm\""
      ]
     },
     "metadata": {},
     "output_type": "display_data"
    }
   ],
   "source": [
    "par(mfrow=c(1,1))\n",
    "options(repr.plot.width = 8, repr.plot.height = 4)\n",
    "plot(trainCorL2normVec, pch=16, xlab='Time', ylab='Correlation L2-Norm', main=paste0('Train data : Machine ', machineNum, ' Correlation L2-Norm'), col='blue')"
   ]
  },
  {
   "cell_type": "markdown",
   "id": "105391c5",
   "metadata": {},
   "source": [
    "- <h4> Correlation 값을 L2-norm을 이용해서 크기를 추출 후, 확인한 결과 Bathtub-Curve 분포의 형태를 띠는 것을 입증하였음</h4>\n",
    "- <h4> Machine 91 뿐만 아니라 다른 데이터의 경우 위와 같은 Bathtub-Curve 형태를 띰</h4>\n",
    "- <h4> 이는 Correlation 값이 Degradation 값으로 대체해서 사용할 수 있는 가능성을 나타냄</h4>\n",
    "- <h4> 또한, 항공기 터빈 엔진에 이상이 생길때 유기적으로 다른 변수에도 영향을 주기 때문에 Correlation 값이 커짐은 자연스러운 현상으로 볼 수 있음</h4>"
   ]
  },
  {
   "cell_type": "code",
   "execution_count": 101,
   "id": "5ed4c4f2",
   "metadata": {},
   "outputs": [],
   "source": [
    "# EoL of test data\n",
    "testEoL = read.table('E:\\\\데이터\\\\예지보전\\\\CMAPSSData\\\\EoL_FD001.txt')\n",
    "testEoL = testEoL$V1"
   ]
  },
  {
   "cell_type": "code",
   "execution_count": 103,
   "id": "2d93064c",
   "metadata": {},
   "outputs": [
    {
     "name": "stdout",
     "output_type": "stream",
     "text": [
      "\n",
      "총수명 :  272"
     ]
    },
    {
     "data": {
      "image/png": "[encoded data removed]",
      "text/plain": [
       "Plot with title \"Cycle : 234\""
      ]
     },
     "metadata": {},
     "output_type": "display_data"
    }
   ],
   "source": [
    "# corrplot of test data\n",
    "par(mfrow=c(2,3))\n",
    "options(repr.plot.width = 7, repr.plot.height = 7)\n",
    "for(i in c(3,25,100,200,220,234)){\n",
    "    corr = cor(testM[1:i,-1])\n",
    "    corrplot(corr, title=paste0('Cycle : ', i), order='AOE',cl.pos=\"n\",tl.pos=\"n\", mar=c(0,0,1,0))\n",
    "}\n",
    "cat('\\n총수명 : ', testEoL[machineNum])"
   ]
  },
  {
   "cell_type": "markdown",
   "id": "879ec613",
   "metadata": {},
   "source": [
    "- <h4> Train 데이터 뿐만 아니라 Test 데이터의 경우도 같은 패턴을 나타냄</h4>\n",
    "- <h4> 위 그래프를 봤을때, Correlation 값이 초반(Cycle: 3, 25)에 큰 값을 나타내고, </h4>\n",
    "- <h4> 중간 지점 (Cycle : 100, 200)에서 값이 안정된 후, </h4> \n",
    "- <h4> 고장시점에 가까울 수록 Correlation 값이 커짐을 보임 (Cycle : 220, 234) </h4>"
   ]
  },
  {
   "cell_type": "code",
   "execution_count": 108,
   "id": "277a4533",
   "metadata": {},
   "outputs": [],
   "source": [
    "# Test data correlation\n",
    "testCorL2normVec = c()\n",
    "for(i in 2:nrow(testM)){\n",
    "  corr = cor(testM[1:i,-1])\n",
    "  corL2norm = sum(sqrt(corr^2)) - sum(sqrt(diag(corr^2)))\n",
    "  testCorL2normVec = append(testCorL2normVec, corL2norm)\n",
    "}"
   ]
  },
  {
   "cell_type": "code",
   "execution_count": 120,
   "id": "2efccfba",
   "metadata": {},
   "outputs": [
    {
     "data": {
      "image/png": "[encoded data removed]",
      "text/plain": [
       "Plot with title \"Test data : Machine 91 Correlation L2-Norm\""
      ]
     },
     "metadata": {},
     "output_type": "display_data"
    }
   ],
   "source": [
    "par(mfrow=c(1,1))\n",
    "options(repr.plot.width = 8, repr.plot.height = 4)\n",
    "plot(testCorL2normVec, pch=16, xlab='Time', ylab='Correlation L2-Norm', main=paste0('Test data : Machine ', machineNum, ' Correlation L2-Norm'), col='blue', xlim = c(1, testEoL[machineNum]))\n",
    "abline(h=trainCorL2normVec[length(corL2normVec)], col='red') # PoF\n",
    "abline(v=testEoL[machineNum], col='red', lwd=2) # test EoL"
   ]
  },
  {
   "cell_type": "markdown",
   "id": "4b69301a",
   "metadata": {},
   "source": [
    "- <h4> 위 그래프는 Test 데이터의 Correlation 크기를 나타냄 </h4>\n",
    "- <h4> 빨간색 수평선은 PoF 값을, 빨간색 수평선은 Test 데이터의 EoL 값을 나타냄</h4>\n",
    "- <h4> Test EoL은 주어진 데이터로 산출했으며, PoF 값은 같은 기게 번호를 갖는 Train 데이터의 EoL 시점의 값을 사용하였음</h4>\n",
    "- <h4> 위 그래프를 봤을 때 Correlation의 크기를 기반으로 수명 예측하는 것은 가능할 것으로 보임</h4>"
   ]
  },
  {
   "cell_type": "markdown",
   "id": "b4e6f813",
   "metadata": {},
   "source": [
    "## RUL Prediction : EWLR (Exponentially Weightd Linear Regression)"
   ]
  },
  {
   "cell_type": "code",
   "execution_count": 137,
   "id": "94bf304a",
   "metadata": {},
   "outputs": [
    {
     "name": "stdout",
     "output_type": "stream",
     "text": [
      "--------------------\n",
      "information of RUL\n",
      "\n",
      "current time: 233\n",
      "predict time: 340.574\n",
      "RUL: 107.574\n",
      "--------------------\n",
      "\n",
      "Test EoL : 272"
     ]
    },
    {
     "data": {
      "image/png": "[encoded data removed]",
      "text/plain": [
       "plot without title"
      ]
     },
     "metadata": {},
     "output_type": "display_data"
    }
   ],
   "source": [
    "trainX = as.matrix(50:100)\n",
    "trainY = as.matrix(trainCorL2normVec[50:100])\n",
    "testX = as.matrix(1:length(testCorL2normVec))\n",
    "testY = as.matrix(testCorL2normVec)\n",
    "PoF = trainCorL2normVec[length(corL2normVec)]\n",
    "\n",
    "w = exponential_weight(1:nrow(testY),testY, alpha=0.05)\n",
    "options(repr.plot.width = 8, repr.plot.height = 4)\n",
    "par(mfrow=c(1,1))\n",
    "\n",
    "RS = RULsystem(trainX, trainY, testX, testY, time=c(233,233), weight=w, mean_life=mean(trainEoL), alpha=0.05, failure_criteria = PoF, model='WLR', plot_type=T)\n",
    "cat(sprintf('Test EoL : %d', testEoL[machineNum]))"
   ]
  },
  {
   "cell_type": "markdown",
   "id": "14c436d8",
   "metadata": {},
   "source": [
    "- <h4> 위 그래프는 Correlation Analysis -> Correlation L2-Norm -> PoF based RUL prediction을 나타냄</h4>\n",
    "- <h4> 빨간색 수평선은 PoF 값을, 초록색 회귀선은 수명 예측 모델을 나타냄</h4>\n",
    "- <h4> 위 그래프를 봤을 때 에측수명(340)이 실제 EoL(272)과 거리가 멀지만, </h4>\n",
    "- <h4> Degradation(Correlation L2-Norm)의 분포 형태와 PoF 값의 위치를 보면 합리적이라고 판단됨</h4>\n",
    "- <h4>  예측의 경우 선형모델이 가지고 있는 한계점이므로</h4>\n",
    "- <h4> 예측모델만 변경해준다면 충분히 좋은 성능을 낼 수 있을 것으로 보임</h4>"
   ]
  },
  {
   "cell_type": "markdown",
   "id": "32a4523b",
   "metadata": {},
   "source": [
    "\n",
    "<h2><b> 결론</b></h2>"
   ]
  },
  {
   "cell_type": "markdown",
   "id": "e8b6c446",
   "metadata": {},
   "source": [
    "- <h4> 해당 script는 Correlation의 크기를 활용한 잔여수명 예측 가능 여부 판단을 목표로함 </h4>\n",
    "- <h4> 이는 Correlation L2-Norm을 Degradation으로 사용할 수 있는지에 대한 실험으로 볼 수 있음 </h4>\n",
    "\n",
    "- <h4> 본 프로세스는 Raw data -> Correlation Analysis -> Correlation L2-Norm -> PoF based RUL prediction 프로세스를 따름 </h4>\n",
    "- <h4> 실험결과 Degradation(Correlation L2-Norm)의 분포 형태와 PoF 값의 위치를 보면 합리적이라고 판단됨 </h4>\n",
    "- <h4> 예측성능의 경우 수명예측 모델만 비선형 모델로 변경해준다면 우수한 성능을 낼 것으로 판단됨</h4>"
   ]
  }
 ],
 "metadata": {
  "kernelspec": {
   "display_name": "R",
   "language": "R",
   "name": "ir"
  },
  "language_info": {
   "codemirror_mode": "r",
   "file_extension": ".r",
   "mimetype": "text/x-r-source",
   "name": "R",
   "pygments_lexer": "r",
   "version": "3.6.1"
  }
 },
 "nbformat": 4,
 "nbformat_minor": 5
}
