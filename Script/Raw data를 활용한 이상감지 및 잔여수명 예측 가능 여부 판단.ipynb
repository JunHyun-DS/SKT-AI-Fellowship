{
 "cells": [
  {
   "cell_type": "markdown",
   "id": "3e0c93b5",
   "metadata": {},
   "source": [
    "<h1> Raw data를 활용한 이상감지 및 잔여수명 예측 가능 여부 판단</h1>\n",
    "&nbsp;\n",
    "\n",
    "- <h3> 데이터 : <a href=\"https://ti.arc.nasa.gov/tech/dash/groups/pcoe/prognostic-data-repository/\">[Turbofan Engine Degradation Simulation Data Set]</a></h3>\n",
    "\n",
    "     - <h4> train data : Run-to-Failure data </h4>\n",
    "     - <h4> test data : Censored data </h4>\n",
    "\n",
    "- <h3> 이상감지 : MSET (Multivariate State Estimation Technique) 기법을 활용하여 이상감지 수행 </h3>\n",
    "- <h3> 잔여수명 예측 : PoF (Physics of Failure) 기반 잔여수명 예측을 목표로 함 </h3>\n",
    "\n",
    "\n"
   ]
  },
  {
   "cell_type": "code",
   "execution_count": 594,
   "id": "8af7e7eb",
   "metadata": {},
   "outputs": [],
   "source": [
    "# 개인 함수 불러오기\n",
    "src_dir = 'E:\\\\R\\\\prototype5\\\\function\\\\'\n",
    "src_file = list.files(src_dir)\n",
    "for(i in 1:length(src_file)) source(paste(src_dir, src_file[i], sep=''), encoding='utf-8')"
   ]
  },
  {
   "cell_type": "code",
   "execution_count": 235,
   "id": "4447a929",
   "metadata": {},
   "outputs": [],
   "source": [
    "# data import\n",
    "# Train Dataset \n",
    "trainData = read.table('E:\\\\데이터\\\\예지보전\\\\CMAPSSData\\\\train_FD001.txt')\n",
    "# testDataset \n",
    "testData = read.table('E:\\\\데이터\\\\예지보전\\\\CMAPSSData\\\\test_FD001.txt')\n",
    "\n",
    "# column name 정의\n",
    "colname = c()\n",
    "for(i in 0:25){\n",
    "  colname = append(colname, paste0('Section-',i))\n",
    "}\n",
    "colnames(trainData) = colname\n",
    "colnames(testData) = colname"
   ]
  },
  {
   "cell_type": "code",
   "execution_count": 114,
   "id": "bb085abc",
   "metadata": {},
   "outputs": [
    {
     "data": {
      "text/plain": [
       "   Section-0        Section-1       Section-2           Section-3         \n",
       " Min.   :  1.00   Min.   :  1.0   Min.   :-8.70e-03   Min.   :-6.000e-04  \n",
       " 1st Qu.: 26.00   1st Qu.: 52.0   1st Qu.:-1.50e-03   1st Qu.:-2.000e-04  \n",
       " Median : 52.00   Median :104.0   Median : 0.00e+00   Median : 0.000e+00  \n",
       " Mean   : 51.51   Mean   :108.8   Mean   :-8.87e-06   Mean   : 2.351e-06  \n",
       " 3rd Qu.: 77.00   3rd Qu.:156.0   3rd Qu.: 1.50e-03   3rd Qu.: 3.000e-04  \n",
       " Max.   :100.00   Max.   :362.0   Max.   : 8.70e-03   Max.   : 6.000e-04  \n",
       "   Section-4     Section-5       Section-6       Section-7      Section-8   \n",
       " Min.   :100   Min.   :518.7   Min.   :641.2   Min.   :1571   Min.   :1382  \n",
       " 1st Qu.:100   1st Qu.:518.7   1st Qu.:642.3   1st Qu.:1586   1st Qu.:1402  \n",
       " Median :100   Median :518.7   Median :642.6   Median :1590   Median :1408  \n",
       " Mean   :100   Mean   :518.7   Mean   :642.7   Mean   :1591   Mean   :1409  \n",
       " 3rd Qu.:100   3rd Qu.:518.7   3rd Qu.:643.0   3rd Qu.:1594   3rd Qu.:1415  \n",
       " Max.   :100   Max.   :518.7   Max.   :644.5   Max.   :1617   Max.   :1441  \n",
       "   Section-9       Section-10      Section-11      Section-12     Section-13  \n",
       " Min.   :14.62   Min.   :21.60   Min.   :549.9   Min.   :2388   Min.   :9022  \n",
       " 1st Qu.:14.62   1st Qu.:21.61   1st Qu.:552.8   1st Qu.:2388   1st Qu.:9053  \n",
       " Median :14.62   Median :21.61   Median :553.4   Median :2388   Median :9061  \n",
       " Mean   :14.62   Mean   :21.61   Mean   :553.4   Mean   :2388   Mean   :9065  \n",
       " 3rd Qu.:14.62   3rd Qu.:21.61   3rd Qu.:554.0   3rd Qu.:2388   3rd Qu.:9069  \n",
       " Max.   :14.62   Max.   :21.61   Max.   :556.1   Max.   :2389   Max.   :9245  \n",
       "   Section-14    Section-15      Section-16      Section-17     Section-18  \n",
       " Min.   :1.3   Min.   :46.85   Min.   :518.7   Min.   :2388   Min.   :8100  \n",
       " 1st Qu.:1.3   1st Qu.:47.35   1st Qu.:521.0   1st Qu.:2388   1st Qu.:8133  \n",
       " Median :1.3   Median :47.51   Median :521.5   Median :2388   Median :8141  \n",
       " Mean   :1.3   Mean   :47.54   Mean   :521.4   Mean   :2388   Mean   :8144  \n",
       " 3rd Qu.:1.3   3rd Qu.:47.70   3rd Qu.:522.0   3rd Qu.:2388   3rd Qu.:8148  \n",
       " Max.   :1.3   Max.   :48.53   Max.   :523.4   Max.   :2389   Max.   :8294  \n",
       "   Section-19      Section-20     Section-21      Section-22     Section-23 \n",
       " Min.   :8.325   Min.   :0.03   Min.   :388.0   Min.   :2388   Min.   :100  \n",
       " 1st Qu.:8.415   1st Qu.:0.03   1st Qu.:392.0   1st Qu.:2388   1st Qu.:100  \n",
       " Median :8.439   Median :0.03   Median :393.0   Median :2388   Median :100  \n",
       " Mean   :8.442   Mean   :0.03   Mean   :393.2   Mean   :2388   Mean   :100  \n",
       " 3rd Qu.:8.466   3rd Qu.:0.03   3rd Qu.:394.0   3rd Qu.:2388   3rd Qu.:100  \n",
       " Max.   :8.585   Max.   :0.03   Max.   :400.0   Max.   :2388   Max.   :100  \n",
       "   Section-24      Section-25   \n",
       " Min.   :38.14   Min.   :22.89  \n",
       " 1st Qu.:38.70   1st Qu.:23.22  \n",
       " Median :38.83   Median :23.30  \n",
       " Mean   :38.82   Mean   :23.29  \n",
       " 3rd Qu.:38.95   3rd Qu.:23.37  \n",
       " Max.   :39.43   Max.   :23.62  "
      ]
     },
     "metadata": {},
     "output_type": "display_data"
    }
   ],
   "source": [
    "# 데이터 요약\n",
    "summary(trainData)"
   ]
  },
  {
   "cell_type": "code",
   "execution_count": 115,
   "id": "bfe83c8f",
   "metadata": {},
   "outputs": [
    {
     "data": {
      "text/html": [
       "<dl class=dl-horizontal>\n",
       "\t<dt>Section-0</dt>\n",
       "\t\t<dd>854.254525451525</dd>\n",
       "\t<dt>Section-1</dt>\n",
       "\t\t<dd>4744.59080779403</dd>\n",
       "\t<dt>Section-2</dt>\n",
       "\t\t<dd>4.78434012424253e-06</dd>\n",
       "\t<dt>Section-3</dt>\n",
       "\t\t<dd>8.58854088552227e-08</dd>\n",
       "\t<dt>Section-4</dt>\n",
       "\t\t<dd>0</dd>\n",
       "\t<dt>Section-5</dt>\n",
       "\t\t<dd>0</dd>\n",
       "\t<dt>Section-6</dt>\n",
       "\t\t<dd>0.250053272898323</dd>\n",
       "\t<dt>Section-7</dt>\n",
       "\t\t<dd>37.590994432805</dd>\n",
       "\t<dt>Section-8</dt>\n",
       "\t\t<dd>81.0108864155464</dd>\n",
       "\t<dt>Section-9</dt>\n",
       "\t\t<dd>0</dd>\n",
       "\t<dt>Section-10</dt>\n",
       "\t\t<dd>1.92927908772854e-06</dd>\n",
       "\t<dt>Section-11</dt>\n",
       "\t\t<dd>0.783388304575707</dd>\n",
       "\t<dt>Section-12</dt>\n",
       "\t\t<dd>0.00503893821337384</dd>\n",
       "\t<dt>Section-13</dt>\n",
       "\t\t<dd>487.653568118589</dd>\n",
       "\t<dt>Section-14</dt>\n",
       "\t\t<dd>0</dd>\n",
       "\t<dt>Section-15</dt>\n",
       "\t\t<dd>0.0713356785121139</dd>\n",
       "\t<dt>Section-16</dt>\n",
       "\t\t<dd>0.543985006360052</dd>\n",
       "\t<dt>Section-17</dt>\n",
       "\t\t<dd>0.00517233043525919</dd>\n",
       "\t<dt>Section-18</dt>\n",
       "\t\t<dd>363.900489865531</dd>\n",
       "\t<dt>Section-19</dt>\n",
       "\t\t<dd>0.00140662787177845</dd>\n",
       "\t<dt>Section-20</dt>\n",
       "\t\t<dd>0</dd>\n",
       "\t<dt>Section-21</dt>\n",
       "\t\t<dd>2.39866690641243</dd>\n",
       "\t<dt>Section-22</dt>\n",
       "\t\t<dd>0</dd>\n",
       "\t<dt>Section-23</dt>\n",
       "\t\t<dd>0</dd>\n",
       "\t<dt>Section-24</dt>\n",
       "\t\t<dd>0.0326692711890885</dd>\n",
       "\t<dt>Section-25</dt>\n",
       "\t\t<dd>0.0117182518830387</dd>\n",
       "</dl>\n"
      ],
      "text/latex": [
       "\\begin{description*}\n",
       "\\item[Section-0] 854.254525451525\n",
       "\\item[Section-1] 4744.59080779403\n",
       "\\item[Section-2] 4.78434012424253e-06\n",
       "\\item[Section-3] 8.58854088552227e-08\n",
       "\\item[Section-4] 0\n",
       "\\item[Section-5] 0\n",
       "\\item[Section-6] 0.250053272898323\n",
       "\\item[Section-7] 37.590994432805\n",
       "\\item[Section-8] 81.0108864155464\n",
       "\\item[Section-9] 0\n",
       "\\item[Section-10] 1.92927908772854e-06\n",
       "\\item[Section-11] 0.783388304575707\n",
       "\\item[Section-12] 0.00503893821337384\n",
       "\\item[Section-13] 487.653568118589\n",
       "\\item[Section-14] 0\n",
       "\\item[Section-15] 0.0713356785121139\n",
       "\\item[Section-16] 0.543985006360052\n",
       "\\item[Section-17] 0.00517233043525919\n",
       "\\item[Section-18] 363.900489865531\n",
       "\\item[Section-19] 0.00140662787177845\n",
       "\\item[Section-20] 0\n",
       "\\item[Section-21] 2.39866690641243\n",
       "\\item[Section-22] 0\n",
       "\\item[Section-23] 0\n",
       "\\item[Section-24] 0.0326692711890885\n",
       "\\item[Section-25] 0.0117182518830387\n",
       "\\end{description*}\n"
      ],
      "text/markdown": [
       "Section-0\n",
       ":   854.254525451525Section-1\n",
       ":   4744.59080779403Section-2\n",
       ":   4.78434012424253e-06Section-3\n",
       ":   8.58854088552227e-08Section-4\n",
       ":   0Section-5\n",
       ":   0Section-6\n",
       ":   0.250053272898323Section-7\n",
       ":   37.590994432805Section-8\n",
       ":   81.0108864155464Section-9\n",
       ":   0Section-10\n",
       ":   1.92927908772854e-06Section-11\n",
       ":   0.783388304575707Section-12\n",
       ":   0.00503893821337384Section-13\n",
       ":   487.653568118589Section-14\n",
       ":   0Section-15\n",
       ":   0.0713356785121139Section-16\n",
       ":   0.543985006360052Section-17\n",
       ":   0.00517233043525919Section-18\n",
       ":   363.900489865531Section-19\n",
       ":   0.00140662787177845Section-20\n",
       ":   0Section-21\n",
       ":   2.39866690641243Section-22\n",
       ":   0Section-23\n",
       ":   0Section-24\n",
       ":   0.0326692711890885Section-25\n",
       ":   0.0117182518830387\n",
       "\n"
      ],
      "text/plain": [
       "   Section-0    Section-1    Section-2    Section-3    Section-4    Section-5 \n",
       "8.542545e+02 4.744591e+03 4.784340e-06 8.588541e-08 0.000000e+00 0.000000e+00 \n",
       "   Section-6    Section-7    Section-8    Section-9   Section-10   Section-11 \n",
       "2.500533e-01 3.759099e+01 8.101089e+01 0.000000e+00 1.929279e-06 7.833883e-01 \n",
       "  Section-12   Section-13   Section-14   Section-15   Section-16   Section-17 \n",
       "5.038938e-03 4.876536e+02 0.000000e+00 7.133568e-02 5.439850e-01 5.172330e-03 \n",
       "  Section-18   Section-19   Section-20   Section-21   Section-22   Section-23 \n",
       "3.639005e+02 1.406628e-03 0.000000e+00 2.398667e+00 0.000000e+00 0.000000e+00 \n",
       "  Section-24   Section-25 \n",
       "3.266927e-02 1.171825e-02 "
      ]
     },
     "metadata": {},
     "output_type": "display_data"
    }
   ],
   "source": [
    "# 변수 별 분산\n",
    "apply(trainData, 2, var)"
   ]
  },
  {
   "cell_type": "code",
   "execution_count": 116,
   "id": "e73ddce7",
   "metadata": {},
   "outputs": [],
   "source": [
    "# 분산이 0인 변수 및 불필요 변수 제거\n",
    "train = trainData[,-c(which(apply(trainData, 2, var) == 0), 2,11)] \n",
    "test = testData[,-c(which(apply(trainData, 2, var) == 0), 2, 11)] "
   ]
  },
  {
   "cell_type": "code",
   "execution_count": 117,
   "id": "2c0ec129",
   "metadata": {},
   "outputs": [
    {
     "data": {
      "text/html": [
       "<table>\n",
       "<thead><tr><th scope=col>Section-0</th><th scope=col>Section-2</th><th scope=col>Section-3</th><th scope=col>Section-6</th><th scope=col>Section-7</th><th scope=col>Section-8</th><th scope=col>Section-11</th><th scope=col>Section-12</th><th scope=col>Section-13</th><th scope=col>Section-15</th><th scope=col>Section-16</th><th scope=col>Section-17</th><th scope=col>Section-18</th><th scope=col>Section-19</th><th scope=col>Section-21</th><th scope=col>Section-24</th><th scope=col>Section-25</th></tr></thead>\n",
       "<tbody>\n",
       "\t<tr><td>1      </td><td>-0.0007</td><td>-4e-04 </td><td>641.82 </td><td>1589.70</td><td>1400.60</td><td>554.36 </td><td>2388.06</td><td>9046.19</td><td>47.47  </td><td>521.66 </td><td>2388.02</td><td>8138.62</td><td>8.4195 </td><td>392    </td><td>39.06  </td><td>23.4190</td></tr>\n",
       "\t<tr><td>1      </td><td> 0.0019</td><td>-3e-04 </td><td>642.15 </td><td>1591.82</td><td>1403.14</td><td>553.75 </td><td>2388.04</td><td>9044.07</td><td>47.49  </td><td>522.28 </td><td>2388.07</td><td>8131.49</td><td>8.4318 </td><td>392    </td><td>39.00  </td><td>23.4236</td></tr>\n",
       "\t<tr><td>1      </td><td>-0.0043</td><td> 3e-04 </td><td>642.35 </td><td>1587.99</td><td>1404.20</td><td>554.26 </td><td>2388.08</td><td>9052.94</td><td>47.27  </td><td>522.42 </td><td>2388.03</td><td>8133.23</td><td>8.4178 </td><td>390    </td><td>38.95  </td><td>23.3442</td></tr>\n",
       "\t<tr><td>1      </td><td> 0.0007</td><td> 0e+00 </td><td>642.35 </td><td>1582.79</td><td>1401.87</td><td>554.45 </td><td>2388.11</td><td>9049.48</td><td>47.13  </td><td>522.86 </td><td>2388.08</td><td>8133.83</td><td>8.3682 </td><td>392    </td><td>38.88  </td><td>23.3739</td></tr>\n",
       "\t<tr><td>1      </td><td>-0.0019</td><td>-2e-04 </td><td>642.37 </td><td>1582.85</td><td>1406.22</td><td>554.00 </td><td>2388.06</td><td>9055.15</td><td>47.28  </td><td>522.19 </td><td>2388.04</td><td>8133.80</td><td>8.4294 </td><td>393    </td><td>38.90  </td><td>23.4044</td></tr>\n",
       "\t<tr><td>1      </td><td>-0.0043</td><td>-1e-04 </td><td>642.10 </td><td>1584.47</td><td>1398.37</td><td>554.67 </td><td>2388.02</td><td>9049.68</td><td>47.16  </td><td>521.68 </td><td>2388.03</td><td>8132.85</td><td>8.4108 </td><td>391    </td><td>38.98  </td><td>23.3669</td></tr>\n",
       "</tbody>\n",
       "</table>\n"
      ],
      "text/latex": [
       "\\begin{tabular}{r|lllllllllllllllll}\n",
       " Section-0 & Section-2 & Section-3 & Section-6 & Section-7 & Section-8 & Section-11 & Section-12 & Section-13 & Section-15 & Section-16 & Section-17 & Section-18 & Section-19 & Section-21 & Section-24 & Section-25\\\\\n",
       "\\hline\n",
       "\t 1       & -0.0007 & -4e-04  & 641.82  & 1589.70 & 1400.60 & 554.36  & 2388.06 & 9046.19 & 47.47   & 521.66  & 2388.02 & 8138.62 & 8.4195  & 392     & 39.06   & 23.4190\\\\\n",
       "\t 1       &  0.0019 & -3e-04  & 642.15  & 1591.82 & 1403.14 & 553.75  & 2388.04 & 9044.07 & 47.49   & 522.28  & 2388.07 & 8131.49 & 8.4318  & 392     & 39.00   & 23.4236\\\\\n",
       "\t 1       & -0.0043 &  3e-04  & 642.35  & 1587.99 & 1404.20 & 554.26  & 2388.08 & 9052.94 & 47.27   & 522.42  & 2388.03 & 8133.23 & 8.4178  & 390     & 38.95   & 23.3442\\\\\n",
       "\t 1       &  0.0007 &  0e+00  & 642.35  & 1582.79 & 1401.87 & 554.45  & 2388.11 & 9049.48 & 47.13   & 522.86  & 2388.08 & 8133.83 & 8.3682  & 392     & 38.88   & 23.3739\\\\\n",
       "\t 1       & -0.0019 & -2e-04  & 642.37  & 1582.85 & 1406.22 & 554.00  & 2388.06 & 9055.15 & 47.28   & 522.19  & 2388.04 & 8133.80 & 8.4294  & 393     & 38.90   & 23.4044\\\\\n",
       "\t 1       & -0.0043 & -1e-04  & 642.10  & 1584.47 & 1398.37 & 554.67  & 2388.02 & 9049.68 & 47.16   & 521.68  & 2388.03 & 8132.85 & 8.4108  & 391     & 38.98   & 23.3669\\\\\n",
       "\\end{tabular}\n"
      ],
      "text/markdown": [
       "\n",
       "| Section-0 | Section-2 | Section-3 | Section-6 | Section-7 | Section-8 | Section-11 | Section-12 | Section-13 | Section-15 | Section-16 | Section-17 | Section-18 | Section-19 | Section-21 | Section-24 | Section-25 |\n",
       "|---|---|---|---|---|---|---|---|---|---|---|---|---|---|---|---|---|\n",
       "| 1       | -0.0007 | -4e-04  | 641.82  | 1589.70 | 1400.60 | 554.36  | 2388.06 | 9046.19 | 47.47   | 521.66  | 2388.02 | 8138.62 | 8.4195  | 392     | 39.06   | 23.4190 |\n",
       "| 1       |  0.0019 | -3e-04  | 642.15  | 1591.82 | 1403.14 | 553.75  | 2388.04 | 9044.07 | 47.49   | 522.28  | 2388.07 | 8131.49 | 8.4318  | 392     | 39.00   | 23.4236 |\n",
       "| 1       | -0.0043 |  3e-04  | 642.35  | 1587.99 | 1404.20 | 554.26  | 2388.08 | 9052.94 | 47.27   | 522.42  | 2388.03 | 8133.23 | 8.4178  | 390     | 38.95   | 23.3442 |\n",
       "| 1       |  0.0007 |  0e+00  | 642.35  | 1582.79 | 1401.87 | 554.45  | 2388.11 | 9049.48 | 47.13   | 522.86  | 2388.08 | 8133.83 | 8.3682  | 392     | 38.88   | 23.3739 |\n",
       "| 1       | -0.0019 | -2e-04  | 642.37  | 1582.85 | 1406.22 | 554.00  | 2388.06 | 9055.15 | 47.28   | 522.19  | 2388.04 | 8133.80 | 8.4294  | 393     | 38.90   | 23.4044 |\n",
       "| 1       | -0.0043 | -1e-04  | 642.10  | 1584.47 | 1398.37 | 554.67  | 2388.02 | 9049.68 | 47.16   | 521.68  | 2388.03 | 8132.85 | 8.4108  | 391     | 38.98   | 23.3669 |\n",
       "\n"
      ],
      "text/plain": [
       "  Section-0 Section-2 Section-3 Section-6 Section-7 Section-8 Section-11\n",
       "1 1         -0.0007   -4e-04    641.82    1589.70   1400.60   554.36    \n",
       "2 1          0.0019   -3e-04    642.15    1591.82   1403.14   553.75    \n",
       "3 1         -0.0043    3e-04    642.35    1587.99   1404.20   554.26    \n",
       "4 1          0.0007    0e+00    642.35    1582.79   1401.87   554.45    \n",
       "5 1         -0.0019   -2e-04    642.37    1582.85   1406.22   554.00    \n",
       "6 1         -0.0043   -1e-04    642.10    1584.47   1398.37   554.67    \n",
       "  Section-12 Section-13 Section-15 Section-16 Section-17 Section-18 Section-19\n",
       "1 2388.06    9046.19    47.47      521.66     2388.02    8138.62    8.4195    \n",
       "2 2388.04    9044.07    47.49      522.28     2388.07    8131.49    8.4318    \n",
       "3 2388.08    9052.94    47.27      522.42     2388.03    8133.23    8.4178    \n",
       "4 2388.11    9049.48    47.13      522.86     2388.08    8133.83    8.3682    \n",
       "5 2388.06    9055.15    47.28      522.19     2388.04    8133.80    8.4294    \n",
       "6 2388.02    9049.68    47.16      521.68     2388.03    8132.85    8.4108    \n",
       "  Section-21 Section-24 Section-25\n",
       "1 392        39.06      23.4190   \n",
       "2 392        39.00      23.4236   \n",
       "3 390        38.95      23.3442   \n",
       "4 392        38.88      23.3739   \n",
       "5 393        38.90      23.4044   \n",
       "6 391        38.98      23.3669   "
      ]
     },
     "metadata": {},
     "output_type": "display_data"
    }
   ],
   "source": [
    "head(train)"
   ]
  },
  {
   "cell_type": "code",
   "execution_count": 118,
   "id": "f9b96df7",
   "metadata": {},
   "outputs": [
    {
     "data": {
      "text/html": [
       "<table>\n",
       "<thead><tr><th scope=col>Section-0</th><th scope=col>Section-2</th><th scope=col>Section-3</th><th scope=col>Section-6</th><th scope=col>Section-7</th><th scope=col>Section-8</th><th scope=col>Section-11</th><th scope=col>Section-12</th><th scope=col>Section-13</th><th scope=col>Section-15</th><th scope=col>Section-16</th><th scope=col>Section-17</th><th scope=col>Section-18</th><th scope=col>Section-19</th><th scope=col>Section-21</th><th scope=col>Section-24</th><th scope=col>Section-25</th></tr></thead>\n",
       "<tbody>\n",
       "\t<tr><td>1      </td><td> 0.0023</td><td> 3e-04 </td><td>643.02 </td><td>1585.29</td><td>1398.21</td><td>553.90 </td><td>2388.04</td><td>9050.17</td><td>47.20  </td><td>521.72 </td><td>2388.03</td><td>8125.55</td><td>8.4052 </td><td>392    </td><td>38.86  </td><td>23.3735</td></tr>\n",
       "\t<tr><td>1      </td><td>-0.0027</td><td>-3e-04 </td><td>641.71 </td><td>1588.45</td><td>1395.42</td><td>554.85 </td><td>2388.01</td><td>9054.42</td><td>47.50  </td><td>522.16 </td><td>2388.06</td><td>8139.62</td><td>8.3803 </td><td>393    </td><td>39.02  </td><td>23.3916</td></tr>\n",
       "\t<tr><td>1      </td><td> 0.0003</td><td> 1e-04 </td><td>642.46 </td><td>1586.94</td><td>1401.34</td><td>554.11 </td><td>2388.05</td><td>9056.96</td><td>47.50  </td><td>521.97 </td><td>2388.03</td><td>8130.10</td><td>8.4441 </td><td>393    </td><td>39.08  </td><td>23.4166</td></tr>\n",
       "\t<tr><td>1      </td><td> 0.0042</td><td> 0e+00 </td><td>642.44 </td><td>1584.12</td><td>1406.42</td><td>554.07 </td><td>2388.03</td><td>9045.29</td><td>47.28  </td><td>521.38 </td><td>2388.05</td><td>8132.90</td><td>8.3917 </td><td>391    </td><td>39.00  </td><td>23.3737</td></tr>\n",
       "\t<tr><td>1      </td><td> 0.0014</td><td> 0e+00 </td><td>642.51 </td><td>1587.19</td><td>1401.92</td><td>554.16 </td><td>2388.01</td><td>9044.55</td><td>47.31  </td><td>522.15 </td><td>2388.03</td><td>8129.54</td><td>8.4031 </td><td>390    </td><td>38.99  </td><td>23.4130</td></tr>\n",
       "\t<tr><td>1      </td><td> 0.0012</td><td> 3e-04 </td><td>642.11 </td><td>1579.12</td><td>1395.13</td><td>554.22 </td><td>2388.00</td><td>9050.96</td><td>47.26  </td><td>521.92 </td><td>2388.08</td><td>8127.46</td><td>8.4238 </td><td>392    </td><td>38.91  </td><td>23.3467</td></tr>\n",
       "</tbody>\n",
       "</table>\n"
      ],
      "text/latex": [
       "\\begin{tabular}{r|lllllllllllllllll}\n",
       " Section-0 & Section-2 & Section-3 & Section-6 & Section-7 & Section-8 & Section-11 & Section-12 & Section-13 & Section-15 & Section-16 & Section-17 & Section-18 & Section-19 & Section-21 & Section-24 & Section-25\\\\\n",
       "\\hline\n",
       "\t 1       &  0.0023 &  3e-04  & 643.02  & 1585.29 & 1398.21 & 553.90  & 2388.04 & 9050.17 & 47.20   & 521.72  & 2388.03 & 8125.55 & 8.4052  & 392     & 38.86   & 23.3735\\\\\n",
       "\t 1       & -0.0027 & -3e-04  & 641.71  & 1588.45 & 1395.42 & 554.85  & 2388.01 & 9054.42 & 47.50   & 522.16  & 2388.06 & 8139.62 & 8.3803  & 393     & 39.02   & 23.3916\\\\\n",
       "\t 1       &  0.0003 &  1e-04  & 642.46  & 1586.94 & 1401.34 & 554.11  & 2388.05 & 9056.96 & 47.50   & 521.97  & 2388.03 & 8130.10 & 8.4441  & 393     & 39.08   & 23.4166\\\\\n",
       "\t 1       &  0.0042 &  0e+00  & 642.44  & 1584.12 & 1406.42 & 554.07  & 2388.03 & 9045.29 & 47.28   & 521.38  & 2388.05 & 8132.90 & 8.3917  & 391     & 39.00   & 23.3737\\\\\n",
       "\t 1       &  0.0014 &  0e+00  & 642.51  & 1587.19 & 1401.92 & 554.16  & 2388.01 & 9044.55 & 47.31   & 522.15  & 2388.03 & 8129.54 & 8.4031  & 390     & 38.99   & 23.4130\\\\\n",
       "\t 1       &  0.0012 &  3e-04  & 642.11  & 1579.12 & 1395.13 & 554.22  & 2388.00 & 9050.96 & 47.26   & 521.92  & 2388.08 & 8127.46 & 8.4238  & 392     & 38.91   & 23.3467\\\\\n",
       "\\end{tabular}\n"
      ],
      "text/markdown": [
       "\n",
       "| Section-0 | Section-2 | Section-3 | Section-6 | Section-7 | Section-8 | Section-11 | Section-12 | Section-13 | Section-15 | Section-16 | Section-17 | Section-18 | Section-19 | Section-21 | Section-24 | Section-25 |\n",
       "|---|---|---|---|---|---|---|---|---|---|---|---|---|---|---|---|---|\n",
       "| 1       |  0.0023 |  3e-04  | 643.02  | 1585.29 | 1398.21 | 553.90  | 2388.04 | 9050.17 | 47.20   | 521.72  | 2388.03 | 8125.55 | 8.4052  | 392     | 38.86   | 23.3735 |\n",
       "| 1       | -0.0027 | -3e-04  | 641.71  | 1588.45 | 1395.42 | 554.85  | 2388.01 | 9054.42 | 47.50   | 522.16  | 2388.06 | 8139.62 | 8.3803  | 393     | 39.02   | 23.3916 |\n",
       "| 1       |  0.0003 |  1e-04  | 642.46  | 1586.94 | 1401.34 | 554.11  | 2388.05 | 9056.96 | 47.50   | 521.97  | 2388.03 | 8130.10 | 8.4441  | 393     | 39.08   | 23.4166 |\n",
       "| 1       |  0.0042 |  0e+00  | 642.44  | 1584.12 | 1406.42 | 554.07  | 2388.03 | 9045.29 | 47.28   | 521.38  | 2388.05 | 8132.90 | 8.3917  | 391     | 39.00   | 23.3737 |\n",
       "| 1       |  0.0014 |  0e+00  | 642.51  | 1587.19 | 1401.92 | 554.16  | 2388.01 | 9044.55 | 47.31   | 522.15  | 2388.03 | 8129.54 | 8.4031  | 390     | 38.99   | 23.4130 |\n",
       "| 1       |  0.0012 |  3e-04  | 642.11  | 1579.12 | 1395.13 | 554.22  | 2388.00 | 9050.96 | 47.26   | 521.92  | 2388.08 | 8127.46 | 8.4238  | 392     | 38.91   | 23.3467 |\n",
       "\n"
      ],
      "text/plain": [
       "  Section-0 Section-2 Section-3 Section-6 Section-7 Section-8 Section-11\n",
       "1 1          0.0023    3e-04    643.02    1585.29   1398.21   553.90    \n",
       "2 1         -0.0027   -3e-04    641.71    1588.45   1395.42   554.85    \n",
       "3 1          0.0003    1e-04    642.46    1586.94   1401.34   554.11    \n",
       "4 1          0.0042    0e+00    642.44    1584.12   1406.42   554.07    \n",
       "5 1          0.0014    0e+00    642.51    1587.19   1401.92   554.16    \n",
       "6 1          0.0012    3e-04    642.11    1579.12   1395.13   554.22    \n",
       "  Section-12 Section-13 Section-15 Section-16 Section-17 Section-18 Section-19\n",
       "1 2388.04    9050.17    47.20      521.72     2388.03    8125.55    8.4052    \n",
       "2 2388.01    9054.42    47.50      522.16     2388.06    8139.62    8.3803    \n",
       "3 2388.05    9056.96    47.50      521.97     2388.03    8130.10    8.4441    \n",
       "4 2388.03    9045.29    47.28      521.38     2388.05    8132.90    8.3917    \n",
       "5 2388.01    9044.55    47.31      522.15     2388.03    8129.54    8.4031    \n",
       "6 2388.00    9050.96    47.26      521.92     2388.08    8127.46    8.4238    \n",
       "  Section-21 Section-24 Section-25\n",
       "1 392        38.86      23.3735   \n",
       "2 393        39.02      23.3916   \n",
       "3 393        39.08      23.4166   \n",
       "4 391        39.00      23.3737   \n",
       "5 390        38.99      23.4130   \n",
       "6 392        38.91      23.3467   "
      ]
     },
     "metadata": {},
     "output_type": "display_data"
    }
   ],
   "source": [
    "head(test)"
   ]
  },
  {
   "cell_type": "code",
   "execution_count": 236,
   "id": "fbc14689",
   "metadata": {},
   "outputs": [
    {
     "name": "stdout",
     "output_type": "stream",
     "text": [
      "  [1] 192 287 179 189 269 188 259 150 201 222 240 170 163 180 207 209 276 195\n",
      " [19] 158 234 195 202 168 147 230 199 156 165 163 194 234 191 200 195 181 158\n",
      " [37] 170 194 128 188 216 196 207 192 158 256 214 231 215 198 213 213 195 257\n",
      " [55] 193 275 137 147 231 172 185 180 174 283 153 202 313 199 362 137 208 213\n",
      " [73] 213 166 229 210 154 231 199 185 240 214 293 267 188 278 178 213 217 154\n",
      " [91] 135 341 155 258 283 336 202 156 185 200\n"
     ]
    },
    {
     "data": {
      "image/png": "[encoded data removed]",
      "text/plain": [
       "Plot with title \" EoL per Machine (1~100)\""
      ]
     },
     "metadata": {},
     "output_type": "display_data"
    }
   ],
   "source": [
    "# Machine Number\n",
    "machineNum = as.numeric(names(table(train$'Section-0')))\n",
    "# EoL (End of Life)\n",
    "trainEoL = as.numeric(table(train$'Section-0'))\n",
    "testEoL = read.table('E:\\\\데이터\\\\예지보전\\\\CMAPSSData\\\\EoL_FD001.txt')\n",
    "testEoL = testEoL$V1\n",
    "\n",
    "# library(repr)\n",
    "options(repr.plot.width = 8, repr.plot.height = 4)\n",
    "plot(machineNum, trainEoL, pch=16, main = ' EoL per Machine (1~100)')\n",
    "print(trainEoL)"
   ]
  },
  {
   "cell_type": "code",
   "execution_count": 242,
   "id": "6f7eed78",
   "metadata": {},
   "outputs": [],
   "source": [
    "# Machine 별로 데이터 보기 & 모델링을 위해 머신 정보 제거\n",
    "machineNum = 1\n",
    "trainM =train[train$`Section-0`== machineNum, -1]\n",
    "testM =test[test$`Section-0`== machineNum, -1] "
   ]
  },
  {
   "cell_type": "code",
   "execution_count": 171,
   "id": "45eb4d2d",
   "metadata": {},
   "outputs": [
    {
     "data": {
      "text/html": [
       "<table>\n",
       "<thead><tr><th scope=col>Section-2</th><th scope=col>Section-3</th><th scope=col>Section-6</th><th scope=col>Section-7</th><th scope=col>Section-8</th><th scope=col>Section-11</th><th scope=col>Section-12</th><th scope=col>Section-13</th><th scope=col>Section-15</th><th scope=col>Section-16</th><th scope=col>Section-17</th><th scope=col>Section-18</th><th scope=col>Section-19</th><th scope=col>Section-21</th><th scope=col>Section-24</th><th scope=col>Section-25</th></tr></thead>\n",
       "<tbody>\n",
       "\t<tr><td>-0.0007</td><td>-4e-04 </td><td>641.82 </td><td>1589.70</td><td>1400.60</td><td>554.36 </td><td>2388.06</td><td>9046.19</td><td>47.47  </td><td>521.66 </td><td>2388.02</td><td>8138.62</td><td>8.4195 </td><td>392    </td><td>39.06  </td><td>23.4190</td></tr>\n",
       "\t<tr><td> 0.0019</td><td>-3e-04 </td><td>642.15 </td><td>1591.82</td><td>1403.14</td><td>553.75 </td><td>2388.04</td><td>9044.07</td><td>47.49  </td><td>522.28 </td><td>2388.07</td><td>8131.49</td><td>8.4318 </td><td>392    </td><td>39.00  </td><td>23.4236</td></tr>\n",
       "\t<tr><td>-0.0043</td><td> 3e-04 </td><td>642.35 </td><td>1587.99</td><td>1404.20</td><td>554.26 </td><td>2388.08</td><td>9052.94</td><td>47.27  </td><td>522.42 </td><td>2388.03</td><td>8133.23</td><td>8.4178 </td><td>390    </td><td>38.95  </td><td>23.3442</td></tr>\n",
       "\t<tr><td> 0.0007</td><td> 0e+00 </td><td>642.35 </td><td>1582.79</td><td>1401.87</td><td>554.45 </td><td>2388.11</td><td>9049.48</td><td>47.13  </td><td>522.86 </td><td>2388.08</td><td>8133.83</td><td>8.3682 </td><td>392    </td><td>38.88  </td><td>23.3739</td></tr>\n",
       "\t<tr><td>-0.0019</td><td>-2e-04 </td><td>642.37 </td><td>1582.85</td><td>1406.22</td><td>554.00 </td><td>2388.06</td><td>9055.15</td><td>47.28  </td><td>522.19 </td><td>2388.04</td><td>8133.80</td><td>8.4294 </td><td>393    </td><td>38.90  </td><td>23.4044</td></tr>\n",
       "\t<tr><td>-0.0043</td><td>-1e-04 </td><td>642.10 </td><td>1584.47</td><td>1398.37</td><td>554.67 </td><td>2388.02</td><td>9049.68</td><td>47.16  </td><td>521.68 </td><td>2388.03</td><td>8132.85</td><td>8.4108 </td><td>391    </td><td>38.98  </td><td>23.3669</td></tr>\n",
       "</tbody>\n",
       "</table>\n"
      ],
      "text/latex": [
       "\\begin{tabular}{r|llllllllllllllll}\n",
       " Section-2 & Section-3 & Section-6 & Section-7 & Section-8 & Section-11 & Section-12 & Section-13 & Section-15 & Section-16 & Section-17 & Section-18 & Section-19 & Section-21 & Section-24 & Section-25\\\\\n",
       "\\hline\n",
       "\t -0.0007 & -4e-04  & 641.82  & 1589.70 & 1400.60 & 554.36  & 2388.06 & 9046.19 & 47.47   & 521.66  & 2388.02 & 8138.62 & 8.4195  & 392     & 39.06   & 23.4190\\\\\n",
       "\t  0.0019 & -3e-04  & 642.15  & 1591.82 & 1403.14 & 553.75  & 2388.04 & 9044.07 & 47.49   & 522.28  & 2388.07 & 8131.49 & 8.4318  & 392     & 39.00   & 23.4236\\\\\n",
       "\t -0.0043 &  3e-04  & 642.35  & 1587.99 & 1404.20 & 554.26  & 2388.08 & 9052.94 & 47.27   & 522.42  & 2388.03 & 8133.23 & 8.4178  & 390     & 38.95   & 23.3442\\\\\n",
       "\t  0.0007 &  0e+00  & 642.35  & 1582.79 & 1401.87 & 554.45  & 2388.11 & 9049.48 & 47.13   & 522.86  & 2388.08 & 8133.83 & 8.3682  & 392     & 38.88   & 23.3739\\\\\n",
       "\t -0.0019 & -2e-04  & 642.37  & 1582.85 & 1406.22 & 554.00  & 2388.06 & 9055.15 & 47.28   & 522.19  & 2388.04 & 8133.80 & 8.4294  & 393     & 38.90   & 23.4044\\\\\n",
       "\t -0.0043 & -1e-04  & 642.10  & 1584.47 & 1398.37 & 554.67  & 2388.02 & 9049.68 & 47.16   & 521.68  & 2388.03 & 8132.85 & 8.4108  & 391     & 38.98   & 23.3669\\\\\n",
       "\\end{tabular}\n"
      ],
      "text/markdown": [
       "\n",
       "| Section-2 | Section-3 | Section-6 | Section-7 | Section-8 | Section-11 | Section-12 | Section-13 | Section-15 | Section-16 | Section-17 | Section-18 | Section-19 | Section-21 | Section-24 | Section-25 |\n",
       "|---|---|---|---|---|---|---|---|---|---|---|---|---|---|---|---|\n",
       "| -0.0007 | -4e-04  | 641.82  | 1589.70 | 1400.60 | 554.36  | 2388.06 | 9046.19 | 47.47   | 521.66  | 2388.02 | 8138.62 | 8.4195  | 392     | 39.06   | 23.4190 |\n",
       "|  0.0019 | -3e-04  | 642.15  | 1591.82 | 1403.14 | 553.75  | 2388.04 | 9044.07 | 47.49   | 522.28  | 2388.07 | 8131.49 | 8.4318  | 392     | 39.00   | 23.4236 |\n",
       "| -0.0043 |  3e-04  | 642.35  | 1587.99 | 1404.20 | 554.26  | 2388.08 | 9052.94 | 47.27   | 522.42  | 2388.03 | 8133.23 | 8.4178  | 390     | 38.95   | 23.3442 |\n",
       "|  0.0007 |  0e+00  | 642.35  | 1582.79 | 1401.87 | 554.45  | 2388.11 | 9049.48 | 47.13   | 522.86  | 2388.08 | 8133.83 | 8.3682  | 392     | 38.88   | 23.3739 |\n",
       "| -0.0019 | -2e-04  | 642.37  | 1582.85 | 1406.22 | 554.00  | 2388.06 | 9055.15 | 47.28   | 522.19  | 2388.04 | 8133.80 | 8.4294  | 393     | 38.90   | 23.4044 |\n",
       "| -0.0043 | -1e-04  | 642.10  | 1584.47 | 1398.37 | 554.67  | 2388.02 | 9049.68 | 47.16   | 521.68  | 2388.03 | 8132.85 | 8.4108  | 391     | 38.98   | 23.3669 |\n",
       "\n"
      ],
      "text/plain": [
       "  Section-2 Section-3 Section-6 Section-7 Section-8 Section-11 Section-12\n",
       "1 -0.0007   -4e-04    641.82    1589.70   1400.60   554.36     2388.06   \n",
       "2  0.0019   -3e-04    642.15    1591.82   1403.14   553.75     2388.04   \n",
       "3 -0.0043    3e-04    642.35    1587.99   1404.20   554.26     2388.08   \n",
       "4  0.0007    0e+00    642.35    1582.79   1401.87   554.45     2388.11   \n",
       "5 -0.0019   -2e-04    642.37    1582.85   1406.22   554.00     2388.06   \n",
       "6 -0.0043   -1e-04    642.10    1584.47   1398.37   554.67     2388.02   \n",
       "  Section-13 Section-15 Section-16 Section-17 Section-18 Section-19 Section-21\n",
       "1 9046.19    47.47      521.66     2388.02    8138.62    8.4195     392       \n",
       "2 9044.07    47.49      522.28     2388.07    8131.49    8.4318     392       \n",
       "3 9052.94    47.27      522.42     2388.03    8133.23    8.4178     390       \n",
       "4 9049.48    47.13      522.86     2388.08    8133.83    8.3682     392       \n",
       "5 9055.15    47.28      522.19     2388.04    8133.80    8.4294     393       \n",
       "6 9049.68    47.16      521.68     2388.03    8132.85    8.4108     391       \n",
       "  Section-24 Section-25\n",
       "1 39.06      23.4190   \n",
       "2 39.00      23.4236   \n",
       "3 38.95      23.3442   \n",
       "4 38.88      23.3739   \n",
       "5 38.90      23.4044   \n",
       "6 38.98      23.3669   "
      ]
     },
     "metadata": {},
     "output_type": "display_data"
    }
   ],
   "source": [
    "head(trainM)"
   ]
  },
  {
   "cell_type": "code",
   "execution_count": 172,
   "id": "bd60396b",
   "metadata": {},
   "outputs": [
    {
     "data": {
      "text/html": [
       "<table>\n",
       "<thead><tr><th scope=col>Section-2</th><th scope=col>Section-3</th><th scope=col>Section-6</th><th scope=col>Section-7</th><th scope=col>Section-8</th><th scope=col>Section-11</th><th scope=col>Section-12</th><th scope=col>Section-13</th><th scope=col>Section-15</th><th scope=col>Section-16</th><th scope=col>Section-17</th><th scope=col>Section-18</th><th scope=col>Section-19</th><th scope=col>Section-21</th><th scope=col>Section-24</th><th scope=col>Section-25</th></tr></thead>\n",
       "<tbody>\n",
       "\t<tr><td> 0.0023</td><td> 3e-04 </td><td>643.02 </td><td>1585.29</td><td>1398.21</td><td>553.90 </td><td>2388.04</td><td>9050.17</td><td>47.20  </td><td>521.72 </td><td>2388.03</td><td>8125.55</td><td>8.4052 </td><td>392    </td><td>38.86  </td><td>23.3735</td></tr>\n",
       "\t<tr><td>-0.0027</td><td>-3e-04 </td><td>641.71 </td><td>1588.45</td><td>1395.42</td><td>554.85 </td><td>2388.01</td><td>9054.42</td><td>47.50  </td><td>522.16 </td><td>2388.06</td><td>8139.62</td><td>8.3803 </td><td>393    </td><td>39.02  </td><td>23.3916</td></tr>\n",
       "\t<tr><td> 0.0003</td><td> 1e-04 </td><td>642.46 </td><td>1586.94</td><td>1401.34</td><td>554.11 </td><td>2388.05</td><td>9056.96</td><td>47.50  </td><td>521.97 </td><td>2388.03</td><td>8130.10</td><td>8.4441 </td><td>393    </td><td>39.08  </td><td>23.4166</td></tr>\n",
       "\t<tr><td> 0.0042</td><td> 0e+00 </td><td>642.44 </td><td>1584.12</td><td>1406.42</td><td>554.07 </td><td>2388.03</td><td>9045.29</td><td>47.28  </td><td>521.38 </td><td>2388.05</td><td>8132.90</td><td>8.3917 </td><td>391    </td><td>39.00  </td><td>23.3737</td></tr>\n",
       "\t<tr><td> 0.0014</td><td> 0e+00 </td><td>642.51 </td><td>1587.19</td><td>1401.92</td><td>554.16 </td><td>2388.01</td><td>9044.55</td><td>47.31  </td><td>522.15 </td><td>2388.03</td><td>8129.54</td><td>8.4031 </td><td>390    </td><td>38.99  </td><td>23.4130</td></tr>\n",
       "\t<tr><td> 0.0012</td><td> 3e-04 </td><td>642.11 </td><td>1579.12</td><td>1395.13</td><td>554.22 </td><td>2388.00</td><td>9050.96</td><td>47.26  </td><td>521.92 </td><td>2388.08</td><td>8127.46</td><td>8.4238 </td><td>392    </td><td>38.91  </td><td>23.3467</td></tr>\n",
       "</tbody>\n",
       "</table>\n"
      ],
      "text/latex": [
       "\\begin{tabular}{r|llllllllllllllll}\n",
       " Section-2 & Section-3 & Section-6 & Section-7 & Section-8 & Section-11 & Section-12 & Section-13 & Section-15 & Section-16 & Section-17 & Section-18 & Section-19 & Section-21 & Section-24 & Section-25\\\\\n",
       "\\hline\n",
       "\t  0.0023 &  3e-04  & 643.02  & 1585.29 & 1398.21 & 553.90  & 2388.04 & 9050.17 & 47.20   & 521.72  & 2388.03 & 8125.55 & 8.4052  & 392     & 38.86   & 23.3735\\\\\n",
       "\t -0.0027 & -3e-04  & 641.71  & 1588.45 & 1395.42 & 554.85  & 2388.01 & 9054.42 & 47.50   & 522.16  & 2388.06 & 8139.62 & 8.3803  & 393     & 39.02   & 23.3916\\\\\n",
       "\t  0.0003 &  1e-04  & 642.46  & 1586.94 & 1401.34 & 554.11  & 2388.05 & 9056.96 & 47.50   & 521.97  & 2388.03 & 8130.10 & 8.4441  & 393     & 39.08   & 23.4166\\\\\n",
       "\t  0.0042 &  0e+00  & 642.44  & 1584.12 & 1406.42 & 554.07  & 2388.03 & 9045.29 & 47.28   & 521.38  & 2388.05 & 8132.90 & 8.3917  & 391     & 39.00   & 23.3737\\\\\n",
       "\t  0.0014 &  0e+00  & 642.51  & 1587.19 & 1401.92 & 554.16  & 2388.01 & 9044.55 & 47.31   & 522.15  & 2388.03 & 8129.54 & 8.4031  & 390     & 38.99   & 23.4130\\\\\n",
       "\t  0.0012 &  3e-04  & 642.11  & 1579.12 & 1395.13 & 554.22  & 2388.00 & 9050.96 & 47.26   & 521.92  & 2388.08 & 8127.46 & 8.4238  & 392     & 38.91   & 23.3467\\\\\n",
       "\\end{tabular}\n"
      ],
      "text/markdown": [
       "\n",
       "| Section-2 | Section-3 | Section-6 | Section-7 | Section-8 | Section-11 | Section-12 | Section-13 | Section-15 | Section-16 | Section-17 | Section-18 | Section-19 | Section-21 | Section-24 | Section-25 |\n",
       "|---|---|---|---|---|---|---|---|---|---|---|---|---|---|---|---|\n",
       "|  0.0023 |  3e-04  | 643.02  | 1585.29 | 1398.21 | 553.90  | 2388.04 | 9050.17 | 47.20   | 521.72  | 2388.03 | 8125.55 | 8.4052  | 392     | 38.86   | 23.3735 |\n",
       "| -0.0027 | -3e-04  | 641.71  | 1588.45 | 1395.42 | 554.85  | 2388.01 | 9054.42 | 47.50   | 522.16  | 2388.06 | 8139.62 | 8.3803  | 393     | 39.02   | 23.3916 |\n",
       "|  0.0003 |  1e-04  | 642.46  | 1586.94 | 1401.34 | 554.11  | 2388.05 | 9056.96 | 47.50   | 521.97  | 2388.03 | 8130.10 | 8.4441  | 393     | 39.08   | 23.4166 |\n",
       "|  0.0042 |  0e+00  | 642.44  | 1584.12 | 1406.42 | 554.07  | 2388.03 | 9045.29 | 47.28   | 521.38  | 2388.05 | 8132.90 | 8.3917  | 391     | 39.00   | 23.3737 |\n",
       "|  0.0014 |  0e+00  | 642.51  | 1587.19 | 1401.92 | 554.16  | 2388.01 | 9044.55 | 47.31   | 522.15  | 2388.03 | 8129.54 | 8.4031  | 390     | 38.99   | 23.4130 |\n",
       "|  0.0012 |  3e-04  | 642.11  | 1579.12 | 1395.13 | 554.22  | 2388.00 | 9050.96 | 47.26   | 521.92  | 2388.08 | 8127.46 | 8.4238  | 392     | 38.91   | 23.3467 |\n",
       "\n"
      ],
      "text/plain": [
       "  Section-2 Section-3 Section-6 Section-7 Section-8 Section-11 Section-12\n",
       "1  0.0023    3e-04    643.02    1585.29   1398.21   553.90     2388.04   \n",
       "2 -0.0027   -3e-04    641.71    1588.45   1395.42   554.85     2388.01   \n",
       "3  0.0003    1e-04    642.46    1586.94   1401.34   554.11     2388.05   \n",
       "4  0.0042    0e+00    642.44    1584.12   1406.42   554.07     2388.03   \n",
       "5  0.0014    0e+00    642.51    1587.19   1401.92   554.16     2388.01   \n",
       "6  0.0012    3e-04    642.11    1579.12   1395.13   554.22     2388.00   \n",
       "  Section-13 Section-15 Section-16 Section-17 Section-18 Section-19 Section-21\n",
       "1 9050.17    47.20      521.72     2388.03    8125.55    8.4052     392       \n",
       "2 9054.42    47.50      522.16     2388.06    8139.62    8.3803     393       \n",
       "3 9056.96    47.50      521.97     2388.03    8130.10    8.4441     393       \n",
       "4 9045.29    47.28      521.38     2388.05    8132.90    8.3917     391       \n",
       "5 9044.55    47.31      522.15     2388.03    8129.54    8.4031     390       \n",
       "6 9050.96    47.26      521.92     2388.08    8127.46    8.4238     392       \n",
       "  Section-24 Section-25\n",
       "1 38.86      23.3735   \n",
       "2 39.02      23.3916   \n",
       "3 39.08      23.4166   \n",
       "4 39.00      23.3737   \n",
       "5 38.99      23.4130   \n",
       "6 38.91      23.3467   "
      ]
     },
     "metadata": {},
     "output_type": "display_data"
    }
   ],
   "source": [
    "head(testM )"
   ]
  },
  {
   "cell_type": "code",
   "execution_count": 320,
   "id": "ca8b4c2b",
   "metadata": {},
   "outputs": [
    {
     "data": {
      "image/png": "[encoded data removed]",
      "text/plain": [
       "Plot with title \"differencing data\""
      ]
     },
     "metadata": {},
     "output_type": "display_data"
    }
   ],
   "source": [
    "# raw 데이터 & differencing data 시각화\n",
    "colNum = 5\n",
    "\n",
    "par(mfrow=c(2,1))\n",
    "options(repr.plot.width = 8, repr.plot.height = 8)\n",
    "\n",
    "plot(trainM[,colNum], pch=16, type='o', main='raw data', xlab='Time', ylab='sensing value')\n",
    "plot(diff(trainM[,colNum]), pch=16, type='o', main='differencing data', xlab='Time', ylab='differencing sensing value', col='blue')"
   ]
  },
  {
   "cell_type": "markdown",
   "id": "377108f2",
   "metadata": {},
   "source": [
    "##### - 위 그래프는 Raw 데이터와 차분한 데이터를 나타냄\n",
    "##### - 위 그래프를 봤을때, 해당 항공기 터빈엔진 데이터는 변동성이 굉장히 큰 데이터임 (노이즈가 많음)\n",
    "##### - 추후에 Smoothing 작업을 통해 노이즈를 줄일 필요가 있음"
   ]
  },
  {
   "cell_type": "code",
   "execution_count": 325,
   "id": "1fd05f96",
   "metadata": {},
   "outputs": [
    {
     "data": {
      "image/png": "[encoded data removed]",
      "text/plain": [
       "Plot with title \"raw data\""
      ]
     },
     "metadata": {},
     "output_type": "display_data"
    }
   ],
   "source": [
    "# 이상감지를 위한 정상 분포 설정 (임의로 1~50까지의 Raw를 healthy state로 설정)\n",
    "par(mfrow=c(1,1))\n",
    "options(repr.plot.width = 8, repr.plot.height = 4)\n",
    "colNum = 3\n",
    "plot(trainM[,colNum], pch=16, type='o', main='raw data', xlab='Time', ylab='sensing value')\n",
    "abline(v=50, lty=2, lwd=2, col='darkgreen')"
   ]
  },
  {
   "cell_type": "markdown",
   "id": "2edc1cc5",
   "metadata": {},
   "source": [
    "## Anomaly Detection : MSET Regression"
   ]
  },
  {
   "cell_type": "code",
   "execution_count": 326,
   "id": "bf85db8d",
   "metadata": {},
   "outputs": [],
   "source": [
    "# MSET Regression 수행 (사용모델 : Linear Regression)\n",
    "mrtr = mset_regress(trainM[1:50,], trainM)\n",
    "mrts = mset_regress(trainM[1:50,], testM)"
   ]
  },
  {
   "cell_type": "code",
   "execution_count": 327,
   "id": "b727d0e2",
   "metadata": {},
   "outputs": [
    {
     "data": {
      "text/html": [
       "<table>\n",
       "<thead><tr><th></th><th scope=col>Section-2</th><th scope=col>Section-3</th><th scope=col>Section-6</th><th scope=col>Section-7</th><th scope=col>Section-8</th><th scope=col>Section-11</th><th scope=col>Section-12</th><th scope=col>Section-13</th><th scope=col>Section-15</th><th scope=col>Section-16</th><th scope=col>Section-17</th><th scope=col>Section-18</th><th scope=col>Section-19</th><th scope=col>Section-21</th><th scope=col>Section-24</th><th scope=col>Section-25</th></tr></thead>\n",
       "<tbody>\n",
       "\t<tr><th scope=row>897</th><td>-0.0025878112</td><td>-1.708971e-04</td><td>-0.55751757  </td><td> 1.2738603   </td><td> 5.1960865   </td><td>-0.4043965   </td><td>-1.9224511   </td><td> 2.673745    </td><td> 0.15858556  </td><td>-0.5737104   </td><td>-1.9212130   </td><td>6.491195     </td><td> 0.0008860812</td><td>-0.99936707  </td><td>-0.269884277 </td><td>-0.09397449  </td></tr>\n",
       "\t<tr><th scope=row>898</th><td> 0.0069498248</td><td>-7.655187e-05</td><td>-0.09702911  </td><td>-4.7205757   </td><td>-9.9726533   </td><td>-0.5246639   </td><td>-1.8302040   </td><td> 2.413437    </td><td>-0.04644485  </td><td>-0.2603154   </td><td>-1.7779111   </td><td>7.395705     </td><td>-0.0018118546</td><td> 0.80563799  </td><td>-0.005178962 </td><td> 0.04760030  </td></tr>\n",
       "\t<tr><th scope=row>899</th><td> 0.0016472348</td><td>-3.034936e-04</td><td>-0.49645246  </td><td>-9.4505036   </td><td> 0.2466585   </td><td>-0.1897734   </td><td>-0.7176289   </td><td> 4.553394    </td><td>-0.23371336  </td><td>-0.1428763   </td><td>-0.7263963   </td><td>2.243277     </td><td>-0.0188086217</td><td>-0.13852891  </td><td> 0.257539625 </td><td>-0.02195367  </td></tr>\n",
       "\t<tr><th scope=row>900</th><td>-0.0036264555</td><td>-5.615764e-04</td><td> 0.12954767  </td><td> 0.9703549   </td><td> 6.0529672   </td><td>-0.5309547   </td><td>-2.0943409   </td><td> 6.468130    </td><td> 0.28359342  </td><td>-0.8211532   </td><td>-2.1569295   </td><td>4.743032     </td><td> 0.0202932700</td><td> 0.07357975  </td><td>-0.003560399 </td><td>-0.08747559  </td></tr>\n",
       "\t<tr><th scope=row>901</th><td> 0.0010287924</td><td>-3.378416e-04</td><td>-0.73799052  </td><td> 1.7650221   </td><td> 7.2196919   </td><td>-0.7211843   </td><td>-2.2245510   </td><td>17.775900    </td><td> 0.16827665  </td><td>-0.5605732   </td><td>-2.2038758   </td><td>1.107768     </td><td> 0.0041702716</td><td>-0.67557342  </td><td>-0.166870295 </td><td>-0.04301889  </td></tr>\n",
       "\t<tr><th scope=row>902</th><td>-0.0006561543</td><td>-1.677695e-04</td><td>-0.40266208  </td><td>-1.9299703   </td><td>-2.1031137   </td><td>-0.3109197   </td><td>-0.8291927   </td><td> 2.333087    </td><td> 0.17948539  </td><td>-0.3297634   </td><td>-0.8645356   </td><td>2.747190     </td><td>-0.0141684233</td><td> 0.62838682  </td><td>-0.269270333 </td><td>-0.04746499  </td></tr>\n",
       "</tbody>\n",
       "</table>\n"
      ],
      "text/latex": [
       "\\begin{tabular}{r|llllllllllllllll}\n",
       "  & Section-2 & Section-3 & Section-6 & Section-7 & Section-8 & Section-11 & Section-12 & Section-13 & Section-15 & Section-16 & Section-17 & Section-18 & Section-19 & Section-21 & Section-24 & Section-25\\\\\n",
       "\\hline\n",
       "\t897 & -0.0025878112 & -1.708971e-04 & -0.55751757   &  1.2738603    &  5.1960865    & -0.4043965    & -1.9224511    &  2.673745     &  0.15858556   & -0.5737104    & -1.9212130    & 6.491195      &  0.0008860812 & -0.99936707   & -0.269884277  & -0.09397449  \\\\\n",
       "\t898 &  0.0069498248 & -7.655187e-05 & -0.09702911   & -4.7205757    & -9.9726533    & -0.5246639    & -1.8302040    &  2.413437     & -0.04644485   & -0.2603154    & -1.7779111    & 7.395705      & -0.0018118546 &  0.80563799   & -0.005178962  &  0.04760030  \\\\\n",
       "\t899 &  0.0016472348 & -3.034936e-04 & -0.49645246   & -9.4505036    &  0.2466585    & -0.1897734    & -0.7176289    &  4.553394     & -0.23371336   & -0.1428763    & -0.7263963    & 2.243277      & -0.0188086217 & -0.13852891   &  0.257539625  & -0.02195367  \\\\\n",
       "\t900 & -0.0036264555 & -5.615764e-04 &  0.12954767   &  0.9703549    &  6.0529672    & -0.5309547    & -2.0943409    &  6.468130     &  0.28359342   & -0.8211532    & -2.1569295    & 4.743032      &  0.0202932700 &  0.07357975   & -0.003560399  & -0.08747559  \\\\\n",
       "\t901 &  0.0010287924 & -3.378416e-04 & -0.73799052   &  1.7650221    &  7.2196919    & -0.7211843    & -2.2245510    & 17.775900     &  0.16827665   & -0.5605732    & -2.2038758    & 1.107768      &  0.0041702716 & -0.67557342   & -0.166870295  & -0.04301889  \\\\\n",
       "\t902 & -0.0006561543 & -1.677695e-04 & -0.40266208   & -1.9299703    & -2.1031137    & -0.3109197    & -0.8291927    &  2.333087     &  0.17948539   & -0.3297634    & -0.8645356    & 2.747190      & -0.0141684233 &  0.62838682   & -0.269270333  & -0.04746499  \\\\\n",
       "\\end{tabular}\n"
      ],
      "text/markdown": [
       "\n",
       "| <!--/--> | Section-2 | Section-3 | Section-6 | Section-7 | Section-8 | Section-11 | Section-12 | Section-13 | Section-15 | Section-16 | Section-17 | Section-18 | Section-19 | Section-21 | Section-24 | Section-25 |\n",
       "|---|---|---|---|---|---|---|---|---|---|---|---|---|---|---|---|---|\n",
       "| 897 | -0.0025878112 | -1.708971e-04 | -0.55751757   |  1.2738603    |  5.1960865    | -0.4043965    | -1.9224511    |  2.673745     |  0.15858556   | -0.5737104    | -1.9212130    | 6.491195      |  0.0008860812 | -0.99936707   | -0.269884277  | -0.09397449   |\n",
       "| 898 |  0.0069498248 | -7.655187e-05 | -0.09702911   | -4.7205757    | -9.9726533    | -0.5246639    | -1.8302040    |  2.413437     | -0.04644485   | -0.2603154    | -1.7779111    | 7.395705      | -0.0018118546 |  0.80563799   | -0.005178962  |  0.04760030   |\n",
       "| 899 |  0.0016472348 | -3.034936e-04 | -0.49645246   | -9.4505036    |  0.2466585    | -0.1897734    | -0.7176289    |  4.553394     | -0.23371336   | -0.1428763    | -0.7263963    | 2.243277      | -0.0188086217 | -0.13852891   |  0.257539625  | -0.02195367   |\n",
       "| 900 | -0.0036264555 | -5.615764e-04 |  0.12954767   |  0.9703549    |  6.0529672    | -0.5309547    | -2.0943409    |  6.468130     |  0.28359342   | -0.8211532    | -2.1569295    | 4.743032      |  0.0202932700 |  0.07357975   | -0.003560399  | -0.08747559   |\n",
       "| 901 |  0.0010287924 | -3.378416e-04 | -0.73799052   |  1.7650221    |  7.2196919    | -0.7211843    | -2.2245510    | 17.775900     |  0.16827665   | -0.5605732    | -2.2038758    | 1.107768      |  0.0041702716 | -0.67557342   | -0.166870295  | -0.04301889   |\n",
       "| 902 | -0.0006561543 | -1.677695e-04 | -0.40266208   | -1.9299703    | -2.1031137    | -0.3109197    | -0.8291927    |  2.333087     |  0.17948539   | -0.3297634    | -0.8645356    | 2.747190      | -0.0141684233 |  0.62838682   | -0.269270333  | -0.04746499   |\n",
       "\n"
      ],
      "text/plain": [
       "    Section-2     Section-3     Section-6   Section-7  Section-8  Section-11\n",
       "897 -0.0025878112 -1.708971e-04 -0.55751757  1.2738603  5.1960865 -0.4043965\n",
       "898  0.0069498248 -7.655187e-05 -0.09702911 -4.7205757 -9.9726533 -0.5246639\n",
       "899  0.0016472348 -3.034936e-04 -0.49645246 -9.4505036  0.2466585 -0.1897734\n",
       "900 -0.0036264555 -5.615764e-04  0.12954767  0.9703549  6.0529672 -0.5309547\n",
       "901  0.0010287924 -3.378416e-04 -0.73799052  1.7650221  7.2196919 -0.7211843\n",
       "902 -0.0006561543 -1.677695e-04 -0.40266208 -1.9299703 -2.1031137 -0.3109197\n",
       "    Section-12 Section-13 Section-15  Section-16 Section-17 Section-18\n",
       "897 -1.9224511  2.673745   0.15858556 -0.5737104 -1.9212130 6.491195  \n",
       "898 -1.8302040  2.413437  -0.04644485 -0.2603154 -1.7779111 7.395705  \n",
       "899 -0.7176289  4.553394  -0.23371336 -0.1428763 -0.7263963 2.243277  \n",
       "900 -2.0943409  6.468130   0.28359342 -0.8211532 -2.1569295 4.743032  \n",
       "901 -2.2245510 17.775900   0.16827665 -0.5605732 -2.2038758 1.107768  \n",
       "902 -0.8291927  2.333087   0.17948539 -0.3297634 -0.8645356 2.747190  \n",
       "    Section-19    Section-21  Section-24   Section-25 \n",
       "897  0.0008860812 -0.99936707 -0.269884277 -0.09397449\n",
       "898 -0.0018118546  0.80563799 -0.005178962  0.04760030\n",
       "899 -0.0188086217 -0.13852891  0.257539625 -0.02195367\n",
       "900  0.0202932700  0.07357975 -0.003560399 -0.08747559\n",
       "901  0.0041702716 -0.67557342 -0.166870295 -0.04301889\n",
       "902 -0.0141684233  0.62838682 -0.269270333 -0.04746499"
      ]
     },
     "metadata": {},
     "output_type": "display_data"
    }
   ],
   "source": [
    "head(mrts$residual_ts)"
   ]
  },
  {
   "cell_type": "markdown",
   "id": "3d1957e9",
   "metadata": {},
   "source": [
    "##### - 위 결과는 Raw 데이터에 MSET Regression 적용 결과로 잔차를 나타냄\n",
    "##### - Scaling을 하지 않았기 때문에 Scalar 값이 큰 변수의 영향력이 커지는 현상 발생\n",
    "##### - 추후에 Scaling 작업 필요"
   ]
  },
  {
   "cell_type": "code",
   "execution_count": 289,
   "id": "5068f3ab",
   "metadata": {},
   "outputs": [],
   "source": [
    "# MSET Modeling -> Visualization\n",
    "autoMSET <- function(train, test, healthystate, machineNum){\n",
    "    # MSET Regression 수행 (사용모델 : Linear Regression)\n",
    "    mrtr = mset_regress(train[healthystate,], train)\n",
    "    mrts = mset_regress(train[healthystate,], test)\n",
    "    \n",
    "    \n",
    "    # control limit\n",
    "    cl = bootlimit(rowSums(mrtr$residual_tr), alpha=0.05)\n",
    "    \n",
    "    # ploting\n",
    "    options(repr.plot.width = 8, repr.plot.height = 8)\n",
    "    par(mfrow=c(2,1))\n",
    "    plot(rowSums(mrtr$residual_ts), pch=16, type='o', main=paste0(\" Train MSET Statistics (Machine \",machineNum,')'), xlab='Time', ylab='Residual', col='blue')\n",
    "    abline(h=cl, col='red')\n",
    "    abline(v=50, lty=2, lwd=1, col='darkgreen')\n",
    "    abline(v=which(rowSums(mrtr$residual_ts)>cl), col=adjustcolor('red', alpha=0.2))\n",
    "    \n",
    "    plot(rowSums(mrts$residual_ts), pch=16, type='o', main=paste0(\" Test MSET Statistics (Machine \",machineNum,')'), xlab='Time', ylab='Residual',col='blue')\n",
    "    abline(v=which(rowSums(mrts$residual_ts)>cl), col=adjustcolor('red', alpha=0.2))\n",
    "    abline(h=cl, col='red')\n",
    "    \n",
    "    # EoL information\n",
    "    cat('\\n')\n",
    "    cat(sprintf('Machine %d', machineNum))\n",
    "    cat(sprintf('\\nTrain EoL : %d',trainEoL[machineNum]))\n",
    "    cat(sprintf('\\nTest EoL : %d',testEoL[machineNum]))\n",
    "}"
   ]
  },
  {
   "cell_type": "code",
   "execution_count": 392,
   "id": "745ac2c4",
   "metadata": {},
   "outputs": [
    {
     "name": "stdout",
     "output_type": "stream",
     "text": [
      "\n",
      "Machine 23\n",
      "Train EoL : 168\n",
      "Test EoL : 243"
     ]
    },
    {
     "data": {
      "image/png": "[encoded data removed]",
      "text/plain": [
       "Plot with title \" Test MSET Statistics (Machine 23)\""
      ]
     },
     "metadata": {},
     "output_type": "display_data"
    }
   ],
   "source": [
    "machineNum = 23\n",
    "trainM =train[train$`Section-0`== machineNum, -1]\n",
    "testM =test[test$`Section-0`== machineNum, -1] \n",
    "autoMSET(trainM, testM, healthystate=1:50, machineNum=machineNum)"
   ]
  },
  {
   "cell_type": "markdown",
   "id": "8d0552d0",
   "metadata": {},
   "source": [
    "##### - 위 그래프는 Train 데이터의  MSET 통계량과 Test 데이터의 MSET 통계량을 나타냄 (정상분포 : Train 데이터  1~50까지의 값)\n",
    "##### - CL (Control Limit) 은 정상분포에서 유의수준 0.05 수준에서 bootstrap sampling을 통해 추출하였음\n",
    "&nbsp;\n",
    "##### - Train 데이터의 경우 대부분 고장시점과 가까워질수록 전조증상이 존재\n",
    "##### - Test 데이터의 경우 이상감지 통계량이 명확한 패턴 (Machine : 20, 21, 32, 90 등) 일부 있음\n",
    "##### - Test 데이터의 경우 이상감지 통계량으로 전조증상을 확인하기엔  대부분 명확하게 판단하기엔 어려움 (Machine : 45, 47, 50 등)\n",
    "##### - 또한 Test 데이터의 경우  정상분포를 기준으로 설정된 Control limit 값에 크게 벗어나는 패턴도 존재 (Machine : 23, 41 등)"
   ]
  },
  {
   "cell_type": "markdown",
   "id": "bdc6568a",
   "metadata": {},
   "source": [
    "## Degradation Model"
   ]
  },
  {
   "cell_type": "code",
   "execution_count": 406,
   "id": "972a93d2",
   "metadata": {
    "scrolled": false
   },
   "outputs": [
    {
     "data": {
      "text/html": [
       "<table>\n",
       "<tbody>\n",
       "\t<tr><td>0.002587811 </td><td>0.0001708971</td><td>0.5575176   </td><td>1.273860    </td><td>5.196086    </td><td>0.4043965   </td><td>1.922451    </td><td>2.673745    </td><td>0.1585856   </td><td>0.5737104   </td><td>1.921213    </td><td>6.491195    </td><td>0.0008860812</td><td>0.9993671   </td><td>0.2698843   </td><td>0.09397449  </td></tr>\n",
       "\t<tr><td>0.004768818 </td><td>0.0001237245</td><td>0.3272733   </td><td>2.997218    </td><td>7.584370    </td><td>0.4645302   </td><td>1.876328    </td><td>2.543591    </td><td>0.1025152   </td><td>0.4170129   </td><td>1.849562    </td><td>6.943450    </td><td>0.0013489679</td><td>0.9025025   </td><td>0.1375316   </td><td>0.07078739  </td></tr>\n",
       "\t<tr><td>0.003728290 </td><td>0.0001836475</td><td>0.3836664   </td><td>5.148313    </td><td>5.138466    </td><td>0.3729446   </td><td>1.490095    </td><td>3.213525    </td><td>0.1462479   </td><td>0.3256340   </td><td>1.475173    </td><td>5.376726    </td><td>0.0071688525</td><td>0.6478447   </td><td>0.1775343   </td><td>0.05450949  </td></tr>\n",
       "\t<tr><td>0.003702832 </td><td>0.0002781298</td><td>0.3201367   </td><td>4.103824    </td><td>5.367091    </td><td>0.4124471   </td><td>1.641156    </td><td>4.027176    </td><td>0.1805843   </td><td>0.4495138   </td><td>1.645612    </td><td>5.218302    </td><td>0.0104499569</td><td>0.5042784   </td><td>0.1340408   </td><td>0.06275101  </td></tr>\n",
       "\t<tr><td>0.003168024 </td><td>0.0002900721</td><td>0.4037075   </td><td>3.636063    </td><td>5.737611    </td><td>0.4741946   </td><td>1.757835    </td><td>6.776921    </td><td>0.1781228   </td><td>0.4717257   </td><td>1.757265    </td><td>4.396195    </td><td>0.0091940198</td><td>0.5385374   </td><td>0.1406067   </td><td>0.05880459  </td></tr>\n",
       "\t<tr><td>0.002749379 </td><td>0.0002696884</td><td>0.4035332   </td><td>3.351715    </td><td>5.131862    </td><td>0.4469821   </td><td>1.603061    </td><td>6.036282    </td><td>0.1783499   </td><td>0.4480653   </td><td>1.608477    </td><td>4.121361    </td><td>0.0100230871</td><td>0.5535123   </td><td>0.1620506   </td><td>0.05691465  </td></tr>\n",
       "</tbody>\n",
       "</table>\n"
      ],
      "text/latex": [
       "\\begin{tabular}{llllllllllllllll}\n",
       "\t 0.002587811  & 0.0001708971 & 0.5575176    & 1.273860     & 5.196086     & 0.4043965    & 1.922451     & 2.673745     & 0.1585856    & 0.5737104    & 1.921213     & 6.491195     & 0.0008860812 & 0.9993671    & 0.2698843    & 0.09397449  \\\\\n",
       "\t 0.004768818  & 0.0001237245 & 0.3272733    & 2.997218     & 7.584370     & 0.4645302    & 1.876328     & 2.543591     & 0.1025152    & 0.4170129    & 1.849562     & 6.943450     & 0.0013489679 & 0.9025025    & 0.1375316    & 0.07078739  \\\\\n",
       "\t 0.003728290  & 0.0001836475 & 0.3836664    & 5.148313     & 5.138466     & 0.3729446    & 1.490095     & 3.213525     & 0.1462479    & 0.3256340    & 1.475173     & 5.376726     & 0.0071688525 & 0.6478447    & 0.1775343    & 0.05450949  \\\\\n",
       "\t 0.003702832  & 0.0002781298 & 0.3201367    & 4.103824     & 5.367091     & 0.4124471    & 1.641156     & 4.027176     & 0.1805843    & 0.4495138    & 1.645612     & 5.218302     & 0.0104499569 & 0.5042784    & 0.1340408    & 0.06275101  \\\\\n",
       "\t 0.003168024  & 0.0002900721 & 0.4037075    & 3.636063     & 5.737611     & 0.4741946    & 1.757835     & 6.776921     & 0.1781228    & 0.4717257    & 1.757265     & 4.396195     & 0.0091940198 & 0.5385374    & 0.1406067    & 0.05880459  \\\\\n",
       "\t 0.002749379  & 0.0002696884 & 0.4035332    & 3.351715     & 5.131862     & 0.4469821    & 1.603061     & 6.036282     & 0.1783499    & 0.4480653    & 1.608477     & 4.121361     & 0.0100230871 & 0.5535123    & 0.1620506    & 0.05691465  \\\\\n",
       "\\end{tabular}\n"
      ],
      "text/markdown": [
       "\n",
       "| 0.002587811  | 0.0001708971 | 0.5575176    | 1.273860     | 5.196086     | 0.4043965    | 1.922451     | 2.673745     | 0.1585856    | 0.5737104    | 1.921213     | 6.491195     | 0.0008860812 | 0.9993671    | 0.2698843    | 0.09397449   |\n",
       "| 0.004768818  | 0.0001237245 | 0.3272733    | 2.997218     | 7.584370     | 0.4645302    | 1.876328     | 2.543591     | 0.1025152    | 0.4170129    | 1.849562     | 6.943450     | 0.0013489679 | 0.9025025    | 0.1375316    | 0.07078739   |\n",
       "| 0.003728290  | 0.0001836475 | 0.3836664    | 5.148313     | 5.138466     | 0.3729446    | 1.490095     | 3.213525     | 0.1462479    | 0.3256340    | 1.475173     | 5.376726     | 0.0071688525 | 0.6478447    | 0.1775343    | 0.05450949   |\n",
       "| 0.003702832  | 0.0002781298 | 0.3201367    | 4.103824     | 5.367091     | 0.4124471    | 1.641156     | 4.027176     | 0.1805843    | 0.4495138    | 1.645612     | 5.218302     | 0.0104499569 | 0.5042784    | 0.1340408    | 0.06275101   |\n",
       "| 0.003168024  | 0.0002900721 | 0.4037075    | 3.636063     | 5.737611     | 0.4741946    | 1.757835     | 6.776921     | 0.1781228    | 0.4717257    | 1.757265     | 4.396195     | 0.0091940198 | 0.5385374    | 0.1406067    | 0.05880459   |\n",
       "| 0.002749379  | 0.0002696884 | 0.4035332    | 3.351715     | 5.131862     | 0.4469821    | 1.603061     | 6.036282     | 0.1783499    | 0.4480653    | 1.608477     | 4.121361     | 0.0100230871 | 0.5535123    | 0.1620506    | 0.05691465   |\n",
       "\n"
      ],
      "text/plain": [
       "     [,1]        [,2]         [,3]      [,4]     [,5]     [,6]      [,7]    \n",
       "[1,] 0.002587811 0.0001708971 0.5575176 1.273860 5.196086 0.4043965 1.922451\n",
       "[2,] 0.004768818 0.0001237245 0.3272733 2.997218 7.584370 0.4645302 1.876328\n",
       "[3,] 0.003728290 0.0001836475 0.3836664 5.148313 5.138466 0.3729446 1.490095\n",
       "[4,] 0.003702832 0.0002781298 0.3201367 4.103824 5.367091 0.4124471 1.641156\n",
       "[5,] 0.003168024 0.0002900721 0.4037075 3.636063 5.737611 0.4741946 1.757835\n",
       "[6,] 0.002749379 0.0002696884 0.4035332 3.351715 5.131862 0.4469821 1.603061\n",
       "     [,8]     [,9]      [,10]     [,11]    [,12]    [,13]        [,14]    \n",
       "[1,] 2.673745 0.1585856 0.5737104 1.921213 6.491195 0.0008860812 0.9993671\n",
       "[2,] 2.543591 0.1025152 0.4170129 1.849562 6.943450 0.0013489679 0.9025025\n",
       "[3,] 3.213525 0.1462479 0.3256340 1.475173 5.376726 0.0071688525 0.6478447\n",
       "[4,] 4.027176 0.1805843 0.4495138 1.645612 5.218302 0.0104499569 0.5042784\n",
       "[5,] 6.776921 0.1781228 0.4717257 1.757265 4.396195 0.0091940198 0.5385374\n",
       "[6,] 6.036282 0.1783499 0.4480653 1.608477 4.121361 0.0100230871 0.5535123\n",
       "     [,15]     [,16]     \n",
       "[1,] 0.2698843 0.09397449\n",
       "[2,] 0.1375316 0.07078739\n",
       "[3,] 0.1775343 0.05450949\n",
       "[4,] 0.1340408 0.06275101\n",
       "[5,] 0.1406067 0.05880459\n",
       "[6,] 0.1620506 0.05691465"
      ]
     },
     "metadata": {},
     "output_type": "display_data"
    }
   ],
   "source": [
    "# Degradation Model \n",
    "machineNum = 1\n",
    "trdeg = degradation_model(residual = mrtr$'residual_ts')\n",
    "tsdeg = degradation_model(residual = mrts$'residual_ts')\n",
    "head(tsdeg$degradation)"
   ]
  },
  {
   "cell_type": "markdown",
   "id": "777066e5",
   "metadata": {},
   "source": [
    "##### - 위 결과는 Raw 데이터에 MSET Regression 적용 후, MSET Regression의 잔차값을 Degradation Model에 적용한 결과임\n",
    "##### - Degradation Model은 Stress-Damage approach로 잔차를 스트레스 지표로 사용하며, 누적된 잔차값을 이용하여 설비 진단\n",
    "##### - 마찬가지로 Scaling을 하지 않았기 때문에 Scalar 값이 큰 변수의 영향력이 커지는 현상 발생\n",
    "##### - 추후에 Scaling 작업 필요"
   ]
  },
  {
   "cell_type": "code",
   "execution_count": 602,
   "id": "dab4ac5e",
   "metadata": {},
   "outputs": [],
   "source": [
    "# MSET Modeling -> Degradation Modeling -> Visualization\n",
    "autoDegradation <- function(train, test, healthystate, PoF, machineNum){\n",
    "    \n",
    "    # MSET Regression 수행 (사용모델 : Linear Regression)\n",
    "    mrtr = mset_regress(train[healthystate,], train)\n",
    "    mrts = mset_regress(train[healthystate,], test)\n",
    "      \n",
    "    trdeg = degradation_model(residual = mrtr$'residual_ts')\n",
    "    tsdeg = degradation_model(residual = mrts$'residual_ts')\n",
    "    \n",
    "    # ploting\n",
    "    options(repr.plot.width = 8, repr.plot.height = 8)\n",
    "    par(mfrow=c(2,1))\n",
    "    range = c(rowSums(trdeg$degradation), PoF)\n",
    "    plot(rowSums(trdeg$degradation), pch=16, type='o', main=paste0(\" Train Degradation Statstics (Machine \",machineNum,')'), xlab='Time', ylab='Residual', col='blue', ylim=c(min(range),max(range)))\n",
    "    abline(v=50, lty=2, lwd=1, col='darkgreen')\n",
    "    abline(h=PoF, col='red')\n",
    "    \n",
    "    range = c(rowSums(tsdeg$degradation), PoF)\n",
    "    plot(rowSums(tsdeg$degradation), pch=16, type='o', main=paste0(\" Test Degradation Statstics (Machine \",machineNum,')'), xlab='Time', ylab='Residual',col='blue', ylim=c(min(range),max(range)))\n",
    "    abline(h=PoF, col='red')\n",
    "    \n",
    "    # EoL information\n",
    "    cat('\\n')\n",
    "    cat(sprintf('Machine %d', machineNum))\n",
    "    cat(sprintf('\\nTrain EoL : %d',trainEoL[machineNum]))\n",
    "    cat(sprintf('\\nTest EoL : %d',testEoL[machineNum]))\n",
    "    \n",
    "    return(\n",
    "        list(\n",
    "            trdeg = rowSums(trdeg$degradation),\n",
    "            tsdeg = rowSums(tsdeg$degradation)\n",
    "        )\n",
    "    )\n",
    "}\n",
    "\n",
    "PoFextraction <- function(train, healthystate){\n",
    "    PoFList = c()\n",
    "    for(i in as.numeric(names(table(train$'Section-0')))){\n",
    "        trainM =train[train$`Section-0`== i,-1]\n",
    "        mrtr = mset_regress(trainM[healthystate,], trainM)\n",
    "        trdeg = degradation_model(residual = mrtr$'residual_ts')\n",
    "        degsum = rowSums(trdeg$'degradation')\n",
    "        PoF = degsum[length(degsum)]\n",
    "        PoFList = append(PoFList, PoF)\n",
    "    }\n",
    "    return(PoFList)\n",
    "}"
   ]
  },
  {
   "cell_type": "code",
   "execution_count": 463,
   "id": "39b1e78c",
   "metadata": {},
   "outputs": [
    {
     "data": {
      "image/png": "[encoded data removed]",
      "text/plain": [
       "Plot with title \"EoL & PoF\""
      ]
     },
     "metadata": {},
     "output_type": "display_data"
    }
   ],
   "source": [
    "options(repr.plot.width = 8, repr.plot.height = 4)\n",
    "par(mfrow=c(1,1))  \n",
    "plot(as.numeric(table(train$'Section-0')), PoF, xlab='Train EoL', ylab='PoF', pch=16, main = \"EoL & PoF\", col='blue')"
   ]
  },
  {
   "cell_type": "markdown",
   "id": "4b4bac81",
   "metadata": {},
   "source": [
    "##### - 위 그래프는 Train데이터 -> MSET Regression -> Degradation Model에서 추출한 PoF값과 실제 Train 데이터의 EoL 간의 관계를 표현한 그래프임  \n"
   ]
  },
  {
   "cell_type": "code",
   "execution_count": 609,
   "id": "ddfe8f05",
   "metadata": {},
   "outputs": [
    {
     "name": "stdout",
     "output_type": "stream",
     "text": [
      "\n",
      "Machine 90\n",
      "Train EoL : 154\n",
      "Test EoL : 174"
     ]
    },
    {
     "data": {
      "image/png": "[encoded data removed]",
      "text/plain": [
       "Plot with title \" Test Degradation Statstics (Machine 90)\""
      ]
     },
     "metadata": {},
     "output_type": "display_data"
    }
   ],
   "source": [
    "machineNum = 90\n",
    "trainM =train[train$`Section-0`== machineNum, -1]\n",
    "testM =test[test$`Section-0`== machineNum, -1] \n",
    "deg = autoDegradation(trainM, testM, healthystate=1:50, PoF=mean(PoF), machineNum=machineNum)"
   ]
  },
  {
   "cell_type": "markdown",
   "id": "a674d58f",
   "metadata": {},
   "source": [
    "##### - 위 그래프는 Degradation Model과 PoF 시각화를 나타냄\n",
    "##### - 대부분의 데이터의 경우 전조증상이 나타나지 않거나, PoF값을 조기에 통과했음\n",
    "##### - 이는 Raw 데이터를 이용해서 잔여수명 예측이 어려움을 나타남\n",
    "##### - 또한 현재 PoF값을 100대 설비에 대한 평균을 이용하였으나, PoF값을 고도화해서 설정할 필요가 있음\n",
    "##### - 잔여수명 예측은 Machine 17, 82, 90의 경우 잔여수명 예측이 가능할 것으로 사료됨"
   ]
  },
  {
   "cell_type": "markdown",
   "id": "34d42343",
   "metadata": {},
   "source": [
    "## RUL Prediction : EWLR (Exponentially Weightd Linear Regression)"
   ]
  },
  {
   "cell_type": "code",
   "execution_count": 612,
   "id": "508b4058",
   "metadata": {},
   "outputs": [
    {
     "name": "stdout",
     "output_type": "stream",
     "text": [
      "--------------------\n",
      "information of RUL\n",
      "\n",
      "current time: 146\n",
      "predict time: 177.008\n",
      "RUL: 31.008\n",
      "--------------------\n",
      "\n",
      "Test EoL : 174"
     ]
    },
    {
     "data": {
      "image/png": "[encoded data removed]",
      "text/plain": [
       "plot without title"
      ]
     },
     "metadata": {},
     "output_type": "display_data"
    }
   ],
   "source": [
    "trainX = as.matrix(1:length(deg$'trdeg'))\n",
    "trainY = as.matrix(deg$'trdeg')\n",
    "testX = as.matrix(1:length(deg$'tsdeg'))\n",
    "testY = as.matrix(deg$'tsdeg')\n",
    "\n",
    "w = exponential_weight(1:nrow(testY),testY, alpha=0.05)\n",
    "options(repr.plot.width = 8, repr.plot.height = 4)\n",
    "par(mfrow=c(1,1))\n",
    "\n",
    "RS = RULsystem(trainX, trainY, testX, testY, time=c(146,146), weight=w, mean_life=mean(trainEoL), alpha=0.05, failure_criteria = mean(PoF), model='WLR', plot_type=T)\n",
    "cat(sprintf('Test EoL : %d', testEoL[machineNum]))"
   ]
  },
  {
   "cell_type": "markdown",
   "id": "c50e7d07",
   "metadata": {},
   "source": [
    "##### - 위 그래프는 MSET Regression -> Degradation Model -> PoF based RUL prediction을 나타냄\n",
    "##### -  Machine 17, 82, 90 잔여수명 예측 결과 Machine 90은 수명예측이 가능한 것으로 보임\n",
    "##### - 하지만, Machine 17, 82의 경우 전조증상은 나타나지만 잔여수명 예측성능은 좋지 않음\n",
    "##### - 이는, PoF값이 원인으로 추정됨"
   ]
  },
  {
   "cell_type": "markdown",
   "id": "50d738fa",
   "metadata": {},
   "source": [
    "## 결론"
   ]
  },
  {
   "cell_type": "markdown",
   "id": "51541bac",
   "metadata": {},
   "source": [
    "##### - 해당 script는 Raw data를 활용한 이상감지 및 잔여수명 예측 가능 여부 판단을 목표로함\n",
    "##### - 본 프로세스는 Raw data -> MSET Regression -> Degradation Model -> PoF based RUL prediction 프로세스를 따름\n",
    "##### - 본 스크립트에서 발생한 문제는 다음과 같이 정의할 수 있음\n",
    "- Scaling 문제\n",
    "    -  Raw data로 모델링을 할 경우 Scalar 값이 큰 변수의 영향력이 커지는 현상 발생\n",
    "        &nbsp;\n",
    "        \n",
    "        \n",
    "- 데이터 노이즈 문제\n",
    "    - 데이터의 변동성이 커서 패턴을 명확하게 추출할 수 없는 문제가 발생\n",
    "    - 이는, 이상감지 통계량의 전조증상 발현에 영향을 미치며 Degradation 값에 영향을 줌\n",
    "    - 즉 데이터 변동성이 큰 현상은 잔여수명 예측에 있어 큰 문제라고 볼 수 있음 \n",
    "    &nbsp;\n",
    "    \n",
    "    \n",
    "- PoF값의 부정확성 문제\n",
    "    - PoF 값은 Run-to-Failure 데이터의 각 설비 별 Degradation 평균을 사용하였음\n",
    "    - 실험결과, Degradation 값이 PoF값을 조기에 통과한 문제가 발생하였는데, 이는 PoF 계산 고도화 필요성을 나타냄\n",
    "\n",
    "##### - 결론적으로, 단순한 Raw 데이터를 이용해서 잔여수명 예측을 하는 것은 어려울 것으로 보임"
   ]
  }
 ],
 "metadata": {
  "kernelspec": {
   "display_name": "R",
   "language": "R",
   "name": "ir"
  },
  "language_info": {
   "codemirror_mode": "r",
   "file_extension": ".r",
   "mimetype": "text/x-r-source",
   "name": "R",
   "pygments_lexer": "r",
   "version": "3.6.1"
  }
 },
 "nbformat": 4,
 "nbformat_minor": 5
}
