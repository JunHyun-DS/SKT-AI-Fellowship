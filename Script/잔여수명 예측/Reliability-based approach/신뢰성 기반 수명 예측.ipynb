{
 "cells": [
  {
   "cell_type": "markdown",
   "id": "236f29f5",
   "metadata": {},
   "source": [
    "<h1> <b>신뢰성 기반 수명 예측</b></h1>\n",
    "&nbsp;\n",
    "\n",
    "- <h3> <b>데이터 : <a href=\"https://ti.arc.nasa.gov/tech/dash/groups/pcoe/prognostic-data-repository/\">[Turbofan Engine Degradation Simulation Data Set]</a></b></h3>\n",
    "\n",
    "     - <h4> <b>train data : Run-to-Failure data</b> </h4>\n",
    "     - <h4> <b>test data : Censored data</b> </h4> \n",
    "     <br>\n",
    "- <h3> <b>확률분포</b></h3>\n",
    "\n",
    "    - <h4> <b>와이블 분포</b></h4>\n",
    "    \n",
    "    - <h4> <b>지수 분포</b></h4>\n",
    "    \n",
    "    - <h4> <b>대수 정규 분포</b></h4>\n"
   ]
  },
  {
   "cell_type": "code",
   "execution_count": 392,
   "id": "771e0c59",
   "metadata": {},
   "outputs": [],
   "source": [
    "options(warn = -1)\n",
    "\n",
    "# 개인 함수 불러오기\n",
    "src_dir = 'E:\\\\R\\\\prototype5\\\\function\\\\'\n",
    "src_file = list.files(src_dir)\n",
    "for(i in 1:length(src_file)) source(paste(src_dir, src_file[i], sep=''), encoding='utf-8')"
   ]
  },
  {
   "cell_type": "code",
   "execution_count": 527,
   "id": "7d6f6f5e",
   "metadata": {},
   "outputs": [],
   "source": [
    "# data import\n",
    "# Train Dataset \n",
    "trainData = read.table('E:\\\\데이터\\\\예지보전\\\\CMAPSSData\\\\train_FD001.txt')\n",
    "# testDataset \n",
    "testData = read.table('E:\\\\데이터\\\\예지보전\\\\CMAPSSData\\\\test_FD001.txt')\n",
    "\n",
    "testRUL = read.table('E:\\\\데이터\\\\예지보전\\\\CMAPSSData\\\\RUL_FD001.txt')\n",
    "testRUL = testRUL$V1\n",
    "# column name 정의\n",
    "colname = c()\n",
    "for(i in 0:25){\n",
    "  colname = append(colname, paste0('Section-',i))\n",
    "}\n",
    "colnames(trainData) = colname\n",
    "colnames(testData) = colname"
   ]
  },
  {
   "cell_type": "code",
   "execution_count": 932,
   "id": "82f8b9c5",
   "metadata": {},
   "outputs": [
    {
     "name": "stdout",
     "output_type": "stream",
     "text": [
      "  [1] 192 287 179 189 269 188 259 150 201 222 240 170 163 180 207 209 276 195\n",
      " [19] 158 234 195 202 168 147 230 199 156 165 163 194 234 191 200 195 181 158\n",
      " [37] 170 194 128 188 216 196 207 192 158 256 214 231 215 198 213 213 195 257\n",
      " [55] 193 275 137 147 231 172 185 180 174 283 153 202 313 199 362 137 208 213\n",
      " [73] 213 166 229 210 154 231 199 185 240 214 293 267 188 278 178 213 217 154\n",
      " [91] 135 341 155 258 283 336 202 156 185 200\n"
     ]
    }
   ],
   "source": [
    "trainEoL = c()\n",
    "for(machineNum in 1:100){\n",
    "    trainEoL = append(trainEoL, nrow(trainData[trainData$'Section-0'== machineNum,]))\n",
    "}\n",
    "print(trainEoL)"
   ]
  },
  {
   "cell_type": "code",
   "execution_count": 933,
   "id": "4c3c243d",
   "metadata": {},
   "outputs": [
    {
     "name": "stdout",
     "output_type": "stream",
     "text": [
      "  [1] 143 147 195 188 189 198 251 261 166 288 180 341 290 153 159 197 215 161\n",
      " [19] 222 200 205 150 243 206 193 195 206 255 261 258 204 193 156 210 209 145\n",
      " [37] 142 175 179 161 141 166 231 163 266 193 208 170 324 153 258 218 190 218\n",
      " [55] 250 151 263 213 208 247 180 286 227 196 199 161 148 195 175 246 186 181\n",
      " [73] 243 263 201 215 196 179 164 223 221 171 210 230 152 199 172 183 313 174\n",
      " [91] 272 170 329 188 217 234 216 180 214 218\n"
     ]
    }
   ],
   "source": [
    "# test data cycle 구하기\n",
    "maxCycle = c()\n",
    "for(machineNum in 1:100){\n",
    "    maxCycle = append(maxCycle, sum(testData$'Section-0'==machineNum))\n",
    "}\n",
    "testEoL = testRUL + maxCycle\n",
    "print(testEoL)"
   ]
  },
  {
   "cell_type": "markdown",
   "id": "91416510",
   "metadata": {},
   "source": [
    "<h2><b> 확률분포 파라미터 추정 (MLE : Maximum Likelihood Estimation)</b></h2>"
   ]
  },
  {
   "cell_type": "markdown",
   "id": "efe0cb98",
   "metadata": {},
   "source": [
    "- <h3><b> 와이블 분포 파라미터 추정</b></h3>"
   ]
  },
  {
   "cell_type": "code",
   "execution_count": 417,
   "id": "8cf75a7a",
   "metadata": {},
   "outputs": [],
   "source": [
    "library(stats4)\n",
    "\n",
    "# Weibull\n",
    "llh_weibull <- function(shape, scale){\n",
    "  # log(likelihood) by summing \n",
    "  -sum(dweibull(x, shape, scale, log=TRUE))\n",
    "}\n",
    "x = trainEoL\n",
    "fit_weibull <- mle(llh_weibull, start = list(shape=3, scale=1), method='L-BFGS-B')"
   ]
  },
  {
   "cell_type": "code",
   "execution_count": 934,
   "id": "12c4082b",
   "metadata": {},
   "outputs": [
    {
     "name": "stdout",
     "output_type": "stream",
     "text": [
      "     shape      scale \n",
      "  4.408716 225.025853 \n"
     ]
    }
   ],
   "source": [
    "# 와이블 분포의 파라미터\n",
    "print(fit_weibull@coef)"
   ]
  },
  {
   "cell_type": "code",
   "execution_count": 106,
   "id": "371c4b2a",
   "metadata": {},
   "outputs": [
    {
     "data": {
      "image/png": "[encoded data removed]",
      "text/plain": [
       "Plot with title \"Weibull Distribution\""
      ]
     },
     "metadata": {},
     "output_type": "display_data"
    }
   ],
   "source": [
    "plot(x, dweibull(x, shape=fit_weibull@coef[1], scale=fit_weibull@coef[2]), pch=16, xlab='EoL', ylab='Density', col='blue')\n",
    "title(\"Weibull Distribution\")"
   ]
  },
  {
   "cell_type": "markdown",
   "id": "8f50ce37",
   "metadata": {},
   "source": [
    "- <h3><b> 지수 분포 파라미터 추정</b></h3>"
   ]
  },
  {
   "cell_type": "code",
   "execution_count": 395,
   "id": "fb1d9cc7",
   "metadata": {},
   "outputs": [],
   "source": [
    "# Exponential\n",
    "x = trainEoL\n",
    "# optimizer : \"Nelder-Mead\", \"BFGS\", \"CG\", \"L-BFGS-B\", \"SANN\"\n",
    "llh_exp <- function(lambda){\n",
    "  # log(likelihood) by summing \n",
    "  -sum(dexp(x, lambda, log=TRUE))\n",
    "}\n",
    "x = trainEoL\n",
    "\n",
    "fit_exp <- mle(llh_exp, start = list(lambda=1), method='SANN')"
   ]
  },
  {
   "cell_type": "code",
   "execution_count": 935,
   "id": "e7b47f98",
   "metadata": {},
   "outputs": [
    {
     "name": "stdout",
     "output_type": "stream",
     "text": [
      "     lambda \n",
      "0.004871476 \n"
     ]
    }
   ],
   "source": [
    "# 지수 분포의 파라미터\n",
    "print(fit_exp@coef)"
   ]
  },
  {
   "cell_type": "code",
   "execution_count": 397,
   "id": "c00dc3a0",
   "metadata": {},
   "outputs": [
    {
     "data": {
      "image/png": "[encoded data removed]",
      "text/plain": [
       "Plot with title \"Exponential Distribution\""
      ]
     },
     "metadata": {},
     "output_type": "display_data"
    }
   ],
   "source": [
    "options(repr.plot.width = 8, repr.plot.height = 4)\n",
    "par(mfrow=c(1,1))\n",
    "plot(x, dexp(x, fit_exp@coef), col='blue', pch=16, xlab='EoL', ylab='Density')\n",
    "title(\"Exponential Distribution\")"
   ]
  },
  {
   "cell_type": "markdown",
   "id": "e9782fed",
   "metadata": {},
   "source": [
    "- <h3><b> 대수 정규분포 파라미터 추정</b></h3>"
   ]
  },
  {
   "cell_type": "code",
   "execution_count": 398,
   "id": "64246285",
   "metadata": {},
   "outputs": [],
   "source": [
    "# Exponential\n",
    "x = trainEoL\n",
    "# optimizer : \"Nelder-Mead\", \"BFGS\", \"CG\", \"L-BFGS-B\", \"SANN\"\n",
    "llh_lnorm <- function(mean, sd){\n",
    "  # log(likelihood) by summing \n",
    "  -sum(dlnorm(x, mean, sd, log=TRUE))\n",
    "}\n",
    "x = trainEoL\n",
    "fit_lnorm <- mle(llh_lnorm, start = list(mean=0, sd=1), method='SANN')"
   ]
  },
  {
   "cell_type": "code",
   "execution_count": 936,
   "id": "933e6436",
   "metadata": {
    "scrolled": true
   },
   "outputs": [
    {
     "name": "stdout",
     "output_type": "stream",
     "text": [
      "     mean        sd \n",
      "5.3060992 0.2109981 \n"
     ]
    }
   ],
   "source": [
    "# 대수 정규 분포의 파라미터\n",
    "\n",
    "# mu = mean(log(x))\n",
    "# sigma = sd(log(x))\n",
    "print(fit_lnorm@coef)"
   ]
  },
  {
   "cell_type": "code",
   "execution_count": 440,
   "id": "e275b90f",
   "metadata": {
    "scrolled": false
   },
   "outputs": [
    {
     "data": {
      "image/png": "[encoded data removed]",
      "text/plain": [
       "Plot with title \"Log Normal Distribution\""
      ]
     },
     "metadata": {},
     "output_type": "display_data"
    }
   ],
   "source": [
    "# Log Normal distribution\n",
    "options(repr.plot.width = 8, repr.plot.height = 4)\n",
    "par(mfrow=c(1,1))\n",
    "plot(x, dlnorm(x, fit_lnorm@coef[1], fit_lnorm@coef[2]), col='blue', pch=16, xlab='EoL', ylab='Density')\n",
    "title(\"Log Normal Distribution\")"
   ]
  },
  {
   "cell_type": "markdown",
   "id": "2bdf341d",
   "metadata": {},
   "source": [
    "<h2><b> 확률분포를 이용한 수명 추정</b></h2>"
   ]
  },
  {
   "cell_type": "code",
   "execution_count": 939,
   "id": "b796f4b2",
   "metadata": {},
   "outputs": [
    {
     "data": {
      "text/html": [
       "'평균 : 206.310000'"
      ],
      "text/latex": [
       "'평균 : 206.310000'"
      ],
      "text/markdown": [
       "'평균 : 206.310000'"
      ],
      "text/plain": [
       "[1] \"평균 : 206.310000\""
      ]
     },
     "metadata": {},
     "output_type": "display_data"
    },
    {
     "data": {
      "text/html": [
       "'표준편차 : 46.342749'"
      ],
      "text/latex": [
       "'표준편차 : 46.342749'"
      ],
      "text/markdown": [
       "'표준편차 : 46.342749'"
      ],
      "text/plain": [
       "[1] \"표준편차 : 46.342749\""
      ]
     },
     "metadata": {},
     "output_type": "display_data"
    }
   ],
   "source": [
    "# Turbofan Engine Data\n",
    "MTTF = mean(trainEoL)\n",
    "sigma = sd(trainEoL)\n",
    "sprintf('평균 : %f', MTTF)\n",
    "sprintf('표준편차 : %f', sigma)"
   ]
  },
  {
   "cell_type": "markdown",
   "id": "6ce27727",
   "metadata": {},
   "source": [
    "- <h3><b> 와이블 분포를 이용한 수명 추정</b></h3>"
   ]
  },
  {
   "cell_type": "code",
   "execution_count": 940,
   "id": "6aa0273c",
   "metadata": {
    "scrolled": true
   },
   "outputs": [],
   "source": [
    "## Weibull (shape, scale), Exponential (lambda), Log-Normal(mean, sd)\n",
    "\n",
    "# Reliability based RUL (MTTF)\n",
    "RebRUL <- function(cycle=1:400, type='Weibull', ...){\n",
    "    \n",
    "    ## Rt : Reliability Function\n",
    "    # Weibull\n",
    "    if(type=='Weibull'){\n",
    "        Rt <- function(x){\n",
    "            exp(-(x/scale)^shape)\n",
    "        }\n",
    "    }\n",
    "    # Exponential\n",
    "    if(type=='Exponential'){\n",
    "        Rt <- function(x){\n",
    "            exp(-lambda*x)\n",
    "        }\n",
    "    }\n",
    "    # Log Normal\n",
    "#    if(type=='Log-Normal'){ # .한번 더 적분해야함\n",
    "#        Rt <- function(x){\n",
    "#            \n",
    "#        }\n",
    "#    }\n",
    "   \n",
    "    RUL = c()\n",
    "    for(i in cycle){\n",
    "        rul = integrate(Rt, lower=i, upper=Inf)\n",
    "        RUL = append(RUL, rul$value)\n",
    "    }\n",
    "    return(RUL)\n",
    "}"
   ]
  },
  {
   "cell_type": "code",
   "execution_count": 941,
   "id": "388dc551",
   "metadata": {},
   "outputs": [],
   "source": [
    "# Weibull distribution fit\n",
    "shape = fit_weibull@coef[1]\n",
    "scale=fit_weibull@coef[2]\n",
    "weibull_RUL = RebRUL(cycle=1:400, type='Weibull')"
   ]
  },
  {
   "cell_type": "code",
   "execution_count": 942,
   "id": "5ffa43a6",
   "metadata": {},
   "outputs": [],
   "source": [
    "# Exponential distribution fit\n",
    "lambda = fit_exp@coef[1]\n",
    "exp_RUL = RebRUL(cycle=1:400, type='Exponential')"
   ]
  },
  {
   "cell_type": "code",
   "execution_count": 943,
   "id": "bb101c10",
   "metadata": {},
   "outputs": [],
   "source": [
    "# Log normal distribution fit\n",
    "mean = fit_lnorm@coef[1]\n",
    "sd = fit_lnorm@coef[2]\n",
    "lnorm_RUL = RebRUL(cycle=1:400, type='Log-Normal')"
   ]
  },
  {
   "cell_type": "code",
   "execution_count": 944,
   "id": "5eb25a41",
   "metadata": {},
   "outputs": [
    {
     "data": {
      "image/png": "[encoded data removed]",
      "text/plain": [
       "Plot with title \"Reliability Distribution based RUL Estimation\""
      ]
     },
     "metadata": {},
     "output_type": "display_data"
    },
    {
     "data": {
      "image/png": "[encoded data removed]",
      "text/plain": [
       "Plot with title \"Reliability Distribution based RUL Estimation\""
      ]
     },
     "metadata": {},
     "output_type": "display_data"
    }
   ],
   "source": [
    "plot(weibull_RUL, xlab='Cycle', ylab='RUL', pch=16, col='blue')\n",
    "title('Reliability Distribution based RUL Estimation')\n",
    "\n",
    "plot(exp_RUL, xlab='Cycle', ylab='RUL', pch=16, col='blue')\n",
    "title('Reliability Distribution based RUL Estimation')\n",
    "\n",
    "#plot(lnorm_RUL, xlab='Cycle', ylab='RUL', pch=16, col='blue')\n",
    "#title(\"RUL Estimation of Log-Normal Distribution\")"
   ]
  },
  {
   "cell_type": "code",
   "execution_count": 945,
   "id": "3ad83102",
   "metadata": {
    "scrolled": false
   },
   "outputs": [
    {
     "data": {
      "image/png": "[encoded data removed]",
      "text/plain": [
       "Plot with title \"Reliability Distribution based RUL Estimation\""
      ]
     },
     "metadata": {},
     "output_type": "display_data"
    }
   ],
   "source": [
    "plot(weibull_RUL, xlab='Cycle', ylab='RUL', pch=16, col='blue')\n",
    "points(exp_RUL,pch=16, col='red')\n",
    "# points(lnorm_RUL,pch=16, col='green')\n",
    "title('Reliability Distribution based RUL Estimation')\n",
    "# legend(300, 200, c('Weibull', 'Exponential'), col=c('blue',' red'), pch=16, lty=1, box.lty=0, cex=1)"
   ]
  },
  {
   "cell_type": "code",
   "execution_count": 946,
   "id": "6f617532",
   "metadata": {},
   "outputs": [],
   "source": [
    "weibull_RUL = RebRUL(cycle=maxCycle, type='Weibull')\n",
    "exp_RUL = RebRUL(cycle=maxCycle, type='Exponential')"
   ]
  },
  {
   "cell_type": "code",
   "execution_count": 947,
   "id": "0c6e71d6",
   "metadata": {
    "scrolled": false
   },
   "outputs": [
    {
     "data": {
      "image/png": "[encoded data removed]",
      "text/plain": [
       "Plot with title \"Reliability Distribution based RUL Estimation\""
      ]
     },
     "metadata": {},
     "output_type": "display_data"
    }
   ],
   "source": [
    "range = c(testRUL,weibull_RUL, exp_RUL)\n",
    "plot(testRUL, col='black', pch=16, type='o', ylim=c(0,max(range)), xlab='Machines', ylab='RUL')\n",
    "points(weibull_RUL, col='blue', pch=16, type='o')\n",
    "points(exp_RUL, col='red', pch=16, type='o')\n",
    "title('Reliability Distribution based RUL Estimation')\n",
    "#legend('top',c('Weibull', 'Exponential'), col=c('blue',' red'), pch=16, lty=1, box.lty=1, cex=1)"
   ]
  },
  {
   "cell_type": "markdown",
   "id": "cf5195ce",
   "metadata": {},
   "source": [
    "<h2><b> 결론 </b></h2>"
   ]
  },
  {
   "cell_type": "markdown",
   "id": "4f73a67c",
   "metadata": {},
   "source": [
    "- <h4> 해당 script는 신뢰성 분포 기반 수명 예측을 목표로함 </h4>\n",
    "- <h4> 신뢰성 분포로는 와이블분포, 지수분포, 대수정규분포를 사용 하였음 </h4>\n",
    "- <h4> 신뢰성 분포의 파라미터는 MLE를 이용해 최적값을 추정하였음 </h4>\n",
    "- <h4> 그 후, 추정된 수명분포를 이용하여 수명을 추정하였음 </h4>"
   ]
  }
 ],
 "metadata": {
  "kernelspec": {
   "display_name": "R",
   "language": "R",
   "name": "ir"
  },
  "language_info": {
   "codemirror_mode": "r",
   "file_extension": ".r",
   "mimetype": "text/x-r-source",
   "name": "R",
   "pygments_lexer": "r",
   "version": "3.6.1"
  }
 },
 "nbformat": 4,
 "nbformat_minor": 5
}
